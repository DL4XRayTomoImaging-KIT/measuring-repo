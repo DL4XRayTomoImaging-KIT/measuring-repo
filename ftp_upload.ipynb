{
 "cells": [
  {
   "cell_type": "code",
   "execution_count": 1,
   "metadata": {},
   "outputs": [],
   "source": [
    "from measure import get_database_interface\n",
    "import yaml"
   ]
  },
  {
   "cell_type": "code",
   "execution_count": 2,
   "metadata": {},
   "outputs": [],
   "source": [
    "import pandas as pd\n",
    "from ftplib import *\n",
    "from io import StringIO\n",
    "import io"
   ]
  },
  {
   "cell_type": "code",
   "execution_count": 3,
   "metadata": {},
   "outputs": [],
   "source": [
    "from tqdm.auto import tqdm"
   ]
  },
  {
   "cell_type": "code",
   "execution_count": 4,
   "metadata": {},
   "outputs": [],
   "source": [
    "def save_df_to_ftp(df, pretty_name, verbose=False):\n",
    "    # function to put the generated values directly to FTP\n",
    "    ftp = FTP('ftp-private.ebi.ac.uk')\n",
    "\n",
    "    ftp.login('indigene_ftp', password)\n",
    "    ftp.cwd('/upload/ct_scans/morphometric_analysis')\n",
    "    \n",
    "    buffer = StringIO()\n",
    "    df.to_csv(buffer, header=True, index=False, columns=['fish_id', 'line_id', 'fish_sex', 'fish_age', 'fish_generation', 'measurement'])\n",
    "    text = buffer.getvalue()\n",
    "    bio = io.BytesIO(str.encode(text))\n",
    "    \n",
    "    ftp.storbinary(f'STOR {pretty_name}.txt', bio)\n",
    "    \n",
    "    if verbose:\n",
    "        print(ftp.dir())"
   ]
  },
  {
   "cell_type": "code",
   "execution_count": 5,
   "metadata": {},
   "outputs": [],
   "source": [
    "def list_ftp():\n",
    "    # function to put the generated values directly to FTP\n",
    "    ftp = FTP('ftp-private.ebi.ac.uk')\n",
    "\n",
    "    ftp.login('indigene_ftp', password) # don't forget to remove the pass before the git-committing\n",
    "    ftp.cwd('/upload/ct_scans/morphometric_analysis')\n",
    "    \n",
    "    print(ftp.dir())"
   ]
  },
  {
   "cell_type": "code",
   "execution_count": 6,
   "metadata": {},
   "outputs": [],
   "source": [
    "def get_df(iface, par_name):\n",
    "    # create dataframe from the database\n",
    "        \n",
    "    selection = iface.as_table([par_name, 'line', 'id', 'sex', 'age', 'generation'])\n",
    "    df = pd.DataFrame(selection)\n",
    "    df = df.loc[~df[par_name].isna()]\n",
    "    df = df.explode(par_name).explode(par_name).explode(par_name)\n",
    "    df = df.rename(columns={o:n for o,n in zip([par_name, 'line', 'id', 'sex', 'age', 'generation'], \n",
    "                                               ['measurement', 'line_id', 'fish_id', 'fish_sex', 'fish_age', 'fish_generation'])})\n",
    "    return df"
   ]
  },
  {
   "cell_type": "markdown",
   "metadata": {},
   "source": [
    "## Connect to the database and ftp"
   ]
  },
  {
   "cell_type": "code",
   "execution_count": 7,
   "metadata": {},
   "outputs": [],
   "source": [
    "with open('measurement_configs/processing/medaka_mongo.yaml') as f:\n",
    "    iface = get_database_interface(yaml.safe_load(f)['db'])"
   ]
  },
  {
   "cell_type": "code",
   "execution_count": 8,
   "metadata": {},
   "outputs": [
    {
     "name": "stdout",
     "output_type": "stream",
     "text": [
      "Password for the FTP, please: ········\n",
      "drwxrws---    2 ftp      ftp          4096 Apr 01  2021 backup\n",
      "-rw-rw----    1 ftp      ftp          7509 Nov 09 14:23 brain.cerebellum.color_average.txt\n",
      "-rw-rw----    1 ftp      ftp          7506 Nov 09 14:23 brain.cerebellum.color_std.txt\n",
      "-rw-rw----    1 ftp      ftp          7274 Nov 09 14:23 brain.cerebellum.eccentricity_equatorial.txt\n",
      "-rw-rw----    1 ftp      ftp          7212 Nov 09 14:23 brain.cerebellum.eccentricity_meridional.txt\n",
      "-rw-rw----    1 ftp      ftp          5133 Nov 09 14:23 brain.cerebellum.surface_area.txt\n",
      "-rw-rw----    1 ftp      ftp          5232 Nov 09 14:23 brain.cerebellum.volume.txt\n",
      "-rw-rw----    1 ftp      ftp          5252 Nov 09 14:23 brain.epyphysis.color_average.txt\n",
      "-rw-rw----    1 ftp      ftp          5247 Nov 09 14:23 brain.epyphysis.color_std.txt\n",
      "-rw-rw----    1 ftp      ftp          4565 Nov 09 14:23 brain.epyphysis.surface_area.txt\n",
      "-rw-rw----    1 ftp      ftp          4568 Nov 09 14:23 brain.epyphysis.volume.txt\n",
      "-rw-rw----    1 ftp      ftp          7475 Nov 09 14:23 brain.forebrain.color_average.txt\n",
      "-rw-rw----    1 ftp      ftp          7505 Nov 09 14:23 brain.forebrain.color_std.txt\n",
      "-rw-rw----    1 ftp      ftp          7120 Nov 09 14:23 brain.forebrain.eccentricity_equatorial.txt\n",
      "-rw-rw----    1 ftp      ftp          7051 Nov 09 14:23 brain.forebrain.eccentricity_meridional.txt\n",
      "-rw-rw----    1 ftp      ftp          5139 Nov 09 14:23 brain.forebrain.surface_area.txt\n",
      "-rw-rw----    1 ftp      ftp          5284 Nov 09 14:23 brain.forebrain.volume.txt\n",
      "-rw-rw----    1 ftp      ftp          7572 Nov 09 14:23 brain.hindbrain.color_average.txt\n",
      "-rw-rw----    1 ftp      ftp          7619 Nov 09 14:23 brain.hindbrain.color_std.txt\n",
      "-rw-rw----    1 ftp      ftp          7428 Nov 09 14:23 brain.hindbrain.eccentricity_equatorial.txt\n",
      "-rw-rw----    1 ftp      ftp          7327 Nov 09 14:23 brain.hindbrain.eccentricity_meridional.txt\n",
      "-rw-rw----    1 ftp      ftp          5296 Nov 09 14:23 brain.hindbrain.surface_area.txt\n",
      "-rw-rw----    1 ftp      ftp          5331 Nov 09 14:23 brain.hindbrain.volume.txt\n",
      "-rw-rw----    1 ftp      ftp          5374 Nov 09 14:23 brain.hypophysis.color_average.txt\n",
      "-rw-rw----    1 ftp      ftp          5363 Nov 09 14:23 brain.hypophysis.color_std.txt\n",
      "-rw-rw----    1 ftp      ftp          4587 Nov 09 14:23 brain.hypophysis.surface_area.txt\n",
      "-rw-rw----    1 ftp      ftp          4586 Nov 09 14:23 brain.hypophysis.volume.txt\n",
      "-rw-rw----    1 ftp      ftp          7599 Nov 09 14:23 brain.midbrain.color_average.txt\n",
      "-rw-rw----    1 ftp      ftp          7713 Nov 09 14:23 brain.midbrain.color_std.txt\n",
      "-rw-rw----    1 ftp      ftp          7674 Nov 09 14:23 brain.midbrain.eccentricity_equatorial.txt\n",
      "-rw-rw----    1 ftp      ftp          7576 Nov 09 14:23 brain.midbrain.eccentricity_meridional.txt\n",
      "-rw-rw----    1 ftp      ftp          5226 Nov 09 14:23 brain.midbrain.surface_area.txt\n",
      "-rw-rw----    1 ftp      ftp          5345 Nov 09 14:23 brain.midbrain.volume.txt\n",
      "-rw-rw----    1 ftp      ftp          7186 Nov 09 14:23 brain.optical_nerves.color_average.txt\n",
      "-rw-rw----    1 ftp      ftp          7167 Nov 09 14:23 brain.optical_nerves.color_std.txt\n",
      "-rw-rw----    1 ftp      ftp          4909 Nov 09 14:23 brain.optical_nerves.eccentricity_equatorial.txt\n",
      "-rw-rw----    1 ftp      ftp          4821 Nov 09 14:23 brain.optical_nerves.eccentricity_meridional.txt\n",
      "-rw-rw----    1 ftp      ftp          4993 Nov 09 14:23 brain.optical_nerves.surface_area.txt\n",
      "-rw-rw----    1 ftp      ftp          4992 Nov 09 14:23 brain.optical_nerves.volume.txt\n",
      "-rw-rw----    1 ftp      ftp         15568 Nov 09 14:23 brain.optical_tectum.color_average.txt\n",
      "-rw-rw----    1 ftp      ftp         15557 Nov 09 14:23 brain.optical_tectum.color_std.txt\n",
      "-rw-rw----    1 ftp      ftp          7806 Nov 09 14:23 brain.optical_tectum.distance_between_centers.txt\n",
      "-rw-rw----    1 ftp      ftp         15653 Nov 09 14:23 brain.optical_tectum.eccentricity_equatorial.txt\n",
      "-rw-rw----    1 ftp      ftp         15475 Nov 09 14:23 brain.optical_tectum.eccentricity_meridional.txt\n",
      "-rw-rw----    1 ftp      ftp         10337 Nov 09 14:23 brain.optical_tectum.surface_area.txt\n",
      "-rw-rw----    1 ftp      ftp         10643 Nov 09 14:23 brain.optical_tectum.volume.txt\n",
      "-rw-rw----    1 ftp      ftp          6794 Nov 09 14:23 brain.torus_longuthing.color_average.txt\n",
      "-rw-rw----    1 ftp      ftp          6799 Nov 09 14:23 brain.torus_longuthing.color_std.txt\n",
      "-rw-rw----    1 ftp      ftp          4832 Nov 09 14:23 brain.torus_longuthing.surface_area.txt\n",
      "-rw-rw----    1 ftp      ftp          4849 Nov 09 14:23 brain.torus_longuthing.volume.txt\n",
      "-rw-rw----    1 ftp      ftp         23723 Nov 09 14:23 eyes.iris.color_average.txt\n",
      "-rw-rw----    1 ftp      ftp         23680 Nov 09 14:23 eyes.iris.color_std.txt\n",
      "-rw-rw----    1 ftp      ftp         11558 Nov 09 14:23 eyes.iris.distance_between_centers.txt\n",
      "-rw-rw----    1 ftp      ftp         18471 Nov 09 14:23 eyes.iris.eccentricity_meridional.txt\n",
      "-rw-rw----    1 ftp      ftp         16033 Nov 09 14:23 eyes.iris.surface_area.txt\n",
      "-rw-rw----    1 ftp      ftp         16030 Nov 09 14:23 eyes.iris.volume.txt\n",
      "-rw-rw----    1 ftp      ftp         24563 Nov 09 14:23 eyes.lens.color_average.txt\n",
      "-rw-rw----    1 ftp      ftp         24298 Nov 09 14:23 eyes.lens.color_std.txt\n",
      "-rw-rw----    1 ftp      ftp         12285 Nov 09 14:23 eyes.lens.distance_between_centers.txt\n",
      "-rw-rw----    1 ftp      ftp        143819 Nov 09 14:23 eyes.lens.radius_axial.txt\n",
      "-rw-rw----    1 ftp      ftp         16350 Nov 09 14:23 eyes.lens.surface_area.txt\n",
      "-rw-rw----    1 ftp      ftp         74384 Nov 09 14:23 eyes.lens.thickness_axial.txt\n",
      "-rw-rw----    1 ftp      ftp         16457 Nov 09 14:23 eyes.lens.volume.txt\n",
      "-rw-rw----    1 ftp      ftp         24201 Nov 09 14:23 eyes.muscles.color_average.txt\n",
      "-rw-rw----    1 ftp      ftp         24046 Nov 09 14:23 eyes.muscles.color_std.txt\n",
      "-rw-rw----    1 ftp      ftp         12085 Nov 09 14:23 eyes.muscles.distance_between_centers.txt\n",
      "-rw-rw----    1 ftp      ftp         17341 Nov 09 14:23 eyes.muscles.eccentricity_meridional.txt\n",
      "-rw-rw----    1 ftp      ftp         16136 Nov 09 14:23 eyes.muscles.surface_area.txt\n",
      "-rw-rw----    1 ftp      ftp         16069 Nov 09 14:23 eyes.muscles.volume.txt\n",
      "-rw-rw----    1 ftp      ftp         10717 Nov 09 14:23 eyes.nerve.color_average.txt\n",
      "-rw-rw----    1 ftp      ftp         10706 Nov 09 14:23 eyes.nerve.color_std.txt\n",
      "-rw-rw----    1 ftp      ftp          7727 Nov 09 14:23 eyes.nerve.surface_area.txt\n",
      "-rw-rw----    1 ftp      ftp          7719 Nov 09 14:23 eyes.nerve.volume.txt\n",
      "-rw-rw----    1 ftp      ftp         24472 Nov 09 14:23 eyes.retina.color_average.txt\n",
      "-rw-rw----    1 ftp      ftp         24450 Nov 09 14:23 eyes.retina.color_std.txt\n",
      "-rw-rw----    1 ftp      ftp         12224 Nov 09 14:23 eyes.retina.distance_between_centers.txt\n",
      "-rw-rw----    1 ftp      ftp         24879 Nov 09 14:23 eyes.retina.eccentricity_meridional.txt\n",
      "-rw-rw----    1 ftp      ftp         16806 Nov 09 14:23 eyes.retina.surface_area.txt\n",
      "-rw-rw----    1 ftp      ftp         16960 Nov 09 14:23 eyes.retina.volume.txt\n",
      "-rw-rw----    1 ftp      ftp         11250 Nov 09 14:23 liver.liver.color_average.txt\n",
      "-rw-rw----    1 ftp      ftp         11209 Nov 09 14:23 liver.liver.color_std.txt\n",
      "-rw-rw----    1 ftp      ftp         11460 Nov 09 14:23 liver.liver.eccentricity_equatorial.txt\n",
      "-rw-rw----    1 ftp      ftp         11342 Nov 09 14:23 liver.liver.eccentricity_meridional.txt\n",
      "-rw-rw----    1 ftp      ftp          7741 Nov 09 14:23 liver.liver.surface_area.txt\n",
      "-rw-rw----    1 ftp      ftp          7894 Nov 09 14:23 liver.liver.volume.txt\n",
      "None\n"
     ]
    }
   ],
   "source": [
    "# Getting password for the FTP\n",
    "\n",
    "import getpass\n",
    "password = getpass.getpass(prompt='Password for the FTP, please: ')\n",
    "try:\n",
    "    list_ftp()\n",
    "except error_perm:\n",
    "    print('Password is incorrect! Please, re-run this cell and try again.')"
   ]
  },
  {
   "cell_type": "markdown",
   "metadata": {},
   "source": [
    "## Adding meta-information to the database"
   ]
  },
  {
   "cell_type": "code",
   "execution_count": 9,
   "metadata": {},
   "outputs": [],
   "source": [
    "scan_201811 = pd.read_excel('samplelist_complete.xlsx', sheet_name=4)\n",
    "scan_201905 = pd.read_excel('samplelist_complete.xlsx', sheet_name=3)\n",
    "scan_201912 = pd.read_excel('samplelist_complete.xlsx', sheet_name=2)\n",
    "scan_202012 = pd.read_excel('samplelist_complete.xlsx', sheet_name=1)\n",
    "\n",
    "all_scans = pd.concat([scan_201811, scan_201905, scan_201912, scan_202012])\n",
    "all_scans = all_scans[all_scans['Scanned stained'].isin(['yes', 'Yes', 'Scanned', 'scanned'])]\n",
    "all_scans = all_scans[['S.No', 'Line', 'Gen.', 'Sex', 'DOB', 'DOS']]\n",
    "all_scans['age'] = (all_scans['DOS'] - pd.to_datetime(all_scans['DOB'], errors='coerce')).dt.days\n",
    "all_scans = all_scans.drop(['DOS', 'DOB'], axis=1)\n",
    "\n",
    "all_scans = all_scans.rename(columns={'S.No': 'id', 'Line': 'line', 'Gen.': 'generation', 'Sex': 'sex', 'age':'age'})\n",
    "all_scans['id'] = pd.to_numeric(all_scans['id'], errors='coerce')\n",
    "all_scans = all_scans[~all_scans.isna()['id']]\n",
    "all_scans['id'] = all_scans['id'].astype(int).astype(str)"
   ]
  },
  {
   "cell_type": "code",
   "execution_count": 10,
   "metadata": {},
   "outputs": [],
   "source": [
    "set_of_reliable_ids = set([i['id'] for i in iface.as_table([])]) & set(all_scans.id)"
   ]
  },
  {
   "cell_type": "code",
   "execution_count": 11,
   "metadata": {},
   "outputs": [
    {
     "data": {
      "application/vnd.jupyter.widget-view+json": {
       "model_id": "77ca4866366645cea2a19c2543676b8d",
       "version_major": 2,
       "version_minor": 0
      },
      "text/plain": [
       "  0%|          | 0/530 [00:00<?, ?it/s]"
      ]
     },
     "metadata": {},
     "output_type": "display_data"
    }
   ],
   "source": [
    "for id in tqdm(set_of_reliable_ids):\n",
    "    iface.update_sample_record(all_scans[all_scans['id'] == id].iloc[0].to_dict())"
   ]
  },
  {
   "cell_type": "markdown",
   "metadata": {},
   "source": [
    "## Generating the dataframes with all measurements available to be saved"
   ]
  },
  {
   "cell_type": "code",
   "execution_count": 70,
   "metadata": {},
   "outputs": [],
   "source": [
    "from collections import Counter\n",
    "from itertools import chain\n",
    "\n",
    "def _transform_db(in_db, measurement_id):\n",
    "    new_db = in_db[['line', 'id', 'sex', 'age', 'generation', measurement_id]]\n",
    "    new_db = new_db.rename({o:n for o,n in zip([measurement_id, 'line', 'id', 'sex', 'age', 'generation'], \n",
    "                                               ['measurement', 'line_id', 'fish_id', 'fish_sex', 'fish_age', 'fish_generation'])}, axis=1)\n",
    "    return new_db\n",
    "\n",
    "def _db_statistics(possible_fields, attempted, whole_db):\n",
    "    measured = 0\n",
    "    samples_in_db = []\n",
    "    for measurement_key in tqdm(possible_fields):\n",
    "        df = _transform_db(whole_db, measurement_key)\n",
    "        samples_id_current = list(df.dropna(how='any', subset=['measurement']).fish_id.unique())\n",
    "    #     print(measurement_key, len(samples_id_current))\n",
    "        measured += df.dropna(how='any', subset=['measurement']).fish_id.nunique()\n",
    "        samples_in_db.append(samples_id_current)\n",
    "\n",
    "    print(measured / len(possible_fields))\n",
    "    samples_with_that_much_measurements = Counter(Counter(chain.from_iterable(samples_in_db)).values())\n",
    "\n",
    "    samples_in_db = len(set.union(*[set(i) for i in samples_in_db]))\n",
    "    print('in db', samples_in_db)\n",
    "\n",
    "    mc_0 = attempted - samples_in_db\n",
    "    mc_20 = sum([v for k,v in samples_with_that_much_measurements.items() if k < len(possible_fields)*0.2])\n",
    "    mc_20_80 = sum([v for k,v in samples_with_that_much_measurements.items() if ((k > len(possible_fields)*0.2) \n",
    "                                                                                   and\n",
    "                                                                                   (k < len(possible_fields)*0.8))])\n",
    "    mc_80 = sum([v for k,v in samples_with_that_much_measurements.items() if k > len(possible_fields)*0.8])\n",
    "    mc_100 = sum([v for k,v in samples_with_that_much_measurements.items() if k == len(possible_fields)])\n",
    "\n",
    "    print('metrics coverage of 0/20/20-40/80/100:', f'{mc_0}/{mc_20}/{mc_20_80}/{mc_80}/{mc_100}')"
   ]
  },
  {
   "cell_type": "code",
   "execution_count": 79,
   "metadata": {},
   "outputs": [],
   "source": [
    "from glob import glob\n",
    "import re"
   ]
  },
  {
   "cell_type": "code",
   "execution_count": 126,
   "metadata": {},
   "outputs": [
    {
     "data": {
      "application/vnd.jupyter.widget-view+json": {
       "model_id": "cfaf0814d25f43b8873fa02c8aa553a0",
       "version_major": 2,
       "version_minor": 0
      },
      "text/plain": [
       "  0%|          | 0/108 [00:00<?, ?it/s]"
      ]
     },
     "metadata": {},
     "output_type": "display_data"
    },
    {
     "name": "stdout",
     "output_type": "stream",
     "text": [
      "333.6111111111111\n",
      "in db 538\n",
      "metrics coverage of 0/20/20-40/80/100: 34/43/298/197/98\n"
     ]
    }
   ],
   "source": [
    "# overall\n",
    "attempted = 340+232\n",
    "possible_fields = (set([i for rec in iface.as_table([]) for i in rec.keys()]) \n",
    "                   - {'line', 'id', 'sex', 'age', 'generation'})\n",
    "whole_db = pd.DataFrame(iface.as_table([]))\n",
    "_db_statistics(possible_fields, attempted, whole_db)"
   ]
  },
  {
   "cell_type": "code",
   "execution_count": 124,
   "metadata": {},
   "outputs": [],
   "source": [
    "qq = pd.read_excel('samplelist_complete.xlsx', sheet_name=4)"
   ]
  },
  {
   "cell_type": "code",
   "execution_count": 125,
   "metadata": {},
   "outputs": [
    {
     "data": {
      "text/html": [
       "<div>\n",
       "<style scoped>\n",
       "    .dataframe tbody tr th:only-of-type {\n",
       "        vertical-align: middle;\n",
       "    }\n",
       "\n",
       "    .dataframe tbody tr th {\n",
       "        vertical-align: top;\n",
       "    }\n",
       "\n",
       "    .dataframe thead th {\n",
       "        text-align: right;\n",
       "    }\n",
       "</style>\n",
       "<table border=\"1\" class=\"dataframe\">\n",
       "  <thead>\n",
       "    <tr style=\"text-align: right;\">\n",
       "      <th></th>\n",
       "      <th>S.No</th>\n",
       "      <th>Line</th>\n",
       "      <th>Scanned stained</th>\n",
       "      <th>scanned unstained</th>\n",
       "      <th>Phenotyping</th>\n",
       "      <th>Notes</th>\n",
       "      <th>Gen.</th>\n",
       "      <th>Sex</th>\n",
       "      <th>DOB</th>\n",
       "      <th>DOS</th>\n",
       "      <th>Fixation</th>\n",
       "      <th>Dehydration</th>\n",
       "      <th>Staining</th>\n",
       "    </tr>\n",
       "  </thead>\n",
       "  <tbody>\n",
       "    <tr>\n",
       "      <th>335</th>\n",
       "      <td>735</td>\n",
       "      <td>137-4</td>\n",
       "      <td>yes</td>\n",
       "      <td>NaN</td>\n",
       "      <td>NaN</td>\n",
       "      <td>NaN</td>\n",
       "      <td>F12</td>\n",
       "      <td>NaN</td>\n",
       "      <td>2018-08-20</td>\n",
       "      <td>2018-11-05</td>\n",
       "      <td>4% PFA/ 1% GA</td>\n",
       "      <td>Acetone + 0.15% PTA</td>\n",
       "      <td>0.15% PTA- 2days</td>\n",
       "    </tr>\n",
       "  </tbody>\n",
       "</table>\n",
       "</div>"
      ],
      "text/plain": [
       "    S.No   Line Scanned stained scanned unstained  Phenotyping Notes Gen.  \\\n",
       "335  735  137-4             yes               NaN          NaN   NaN  F12   \n",
       "\n",
       "     Sex        DOB        DOS       Fixation          Dehydration  \\\n",
       "335  NaN 2018-08-20 2018-11-05  4% PFA/ 1% GA  Acetone + 0.15% PTA   \n",
       "\n",
       "             Staining  \n",
       "335  0.15% PTA- 2days  "
      ]
     },
     "execution_count": 125,
     "metadata": {},
     "output_type": "execute_result"
    }
   ],
   "source": [
    "qq[qq['S.No'] == 735]"
   ]
  },
  {
   "cell_type": "code",
   "execution_count": 90,
   "metadata": {},
   "outputs": [
    {
     "data": {
      "application/vnd.jupyter.widget-view+json": {
       "model_id": "e182056a1d7f473ebeb0b16b9b537005",
       "version_major": 2,
       "version_minor": 0
      },
      "text/plain": [
       "  0%|          | 0/29 [00:00<?, ?it/s]"
      ]
     },
     "metadata": {},
     "output_type": "display_data"
    },
    {
     "name": "stdout",
     "output_type": "stream",
     "text": [
      "316.37931034482756\n",
      "in db 324\n",
      "metrics coverage of 0/20/20-40/80/100: 16/0/0/324/189\n"
     ]
    }
   ],
   "source": [
    "# 2018_11\n",
    "addrs_2018_11 = glob('/mnt/LSDF/projects/code-vita/Medaka/2018_11/Medaka_*_*')\n",
    "ids_2018_11 = [re.findall('Medaka_(\\d+)_', i)[0] for i in addrs_2018_11]\n",
    "lines_2018_11 = [re.findall('Medaka_\\d+_(.+)', i)[0] for i in addrs_2018_11]\n",
    "\n",
    "attempted_2018_11 = len(addrs_2018_11)\n",
    "\n",
    "\n",
    "fields_eyes = (set([i for rec in iface.as_table([]) for i in rec.keys() if i.startswith('eyes')]) \n",
    "                   - {'line', 'id', 'sex', 'age', 'generation'})\n",
    "\n",
    "whole_db = pd.DataFrame(iface.as_table([]))\n",
    "db_2018_11 = whole_db[whole_db.id.isin(exp_ids_2018_11)]\n",
    "\n",
    "_db_statistics(fields_eyes, attempted_2018_11, db_2018_11)\n",
    "\n",
    "print(db_2018_11[list(fields_eyes)].isna().sum())"
   ]
  },
  {
   "cell_type": "code",
   "execution_count": 122,
   "metadata": {},
   "outputs": [
    {
     "data": {
      "text/plain": [
       "['/mnt/LSDF/projects/code-vita/Medaka/2018_11/Medaka_735_135-1']"
      ]
     },
     "execution_count": 122,
     "metadata": {},
     "output_type": "execute_result"
    }
   ],
   "source": [
    "glob('/mnt/LSDF/projects/code-vita/Medaka/2018_11/Medaka_735*')"
   ]
  },
  {
   "cell_type": "code",
   "execution_count": 115,
   "metadata": {},
   "outputs": [
    {
     "data": {
      "text/plain": [
       "Ho5               58\n",
       "123-2              6\n",
       "89-1N              2\n",
       "58-2              14\n",
       "80-2              12\n",
       "131-4_large        3\n",
       "59-2              11\n",
       "49-1              16\n",
       "33-1               8\n",
       "39-2               6\n",
       "39-1               9\n",
       "14-1               5\n",
       "135-1              7\n",
       "68-1               7\n",
       "72-1               7\n",
       "23-1               9\n",
       "72-2              12\n",
       "69-1              13\n",
       "89-1               9\n",
       "29-1              11\n",
       "55-2               6\n",
       "80-1              14\n",
       "18-2               8\n",
       "5-1                9\n",
       "11-1              10\n",
       "iCab_unstained     2\n",
       "50-2              12\n",
       "32-2_large         5\n",
       "25-1               3\n",
       "75-1               4\n",
       "30-1               8\n",
       "21-2              14\n",
       "137-4              3\n",
       "134-1              4\n",
       "61-1               7\n",
       "133-2_large        1\n",
       "dtype: int64"
      ]
     },
     "execution_count": 115,
     "metadata": {},
     "output_type": "execute_result"
    }
   ],
   "source": [
    "pd.Series(Counter(lines_2018_11))"
   ]
  },
  {
   "cell_type": "code",
   "execution_count": 117,
   "metadata": {},
   "outputs": [
    {
     "data": {
      "text/html": [
       "<div>\n",
       "<style scoped>\n",
       "    .dataframe tbody tr th:only-of-type {\n",
       "        vertical-align: middle;\n",
       "    }\n",
       "\n",
       "    .dataframe tbody tr th {\n",
       "        vertical-align: top;\n",
       "    }\n",
       "\n",
       "    .dataframe thead th {\n",
       "        text-align: right;\n",
       "    }\n",
       "</style>\n",
       "<table border=\"1\" class=\"dataframe\">\n",
       "  <thead>\n",
       "    <tr style=\"text-align: right;\">\n",
       "      <th></th>\n",
       "      <th>id</th>\n",
       "      <th>eyes.iris.color_average</th>\n",
       "      <th>eyes.iris.color_std</th>\n",
       "      <th>eyes.iris.distance_between_centers</th>\n",
       "      <th>eyes.iris.surface_area</th>\n",
       "      <th>eyes.iris.volume</th>\n",
       "      <th>eyes.lens.color_average</th>\n",
       "      <th>eyes.lens.color_std</th>\n",
       "      <th>eyes.lens.distance_between_centers</th>\n",
       "      <th>eyes.lens.radius_axial</th>\n",
       "      <th>...</th>\n",
       "      <th>heartkidney.right_kidney.eccentricity_equatorial</th>\n",
       "      <th>heartkidney.right_kidney.eccentricity_meridional</th>\n",
       "      <th>heartkidney.right_kidney.surface_area</th>\n",
       "      <th>heartkidney.right_kidney.volume</th>\n",
       "      <th>heartkidney.ventricle.color_average</th>\n",
       "      <th>heartkidney.ventricle.color_std</th>\n",
       "      <th>heartkidney.ventricle.eccentricity_equatorial</th>\n",
       "      <th>heartkidney.ventricle.eccentricity_meridional</th>\n",
       "      <th>heartkidney.ventricle.surface_area</th>\n",
       "      <th>heartkidney.ventricle.volume</th>\n",
       "    </tr>\n",
       "  </thead>\n",
       "  <tbody>\n",
       "    <tr>\n",
       "      <th>60</th>\n",
       "      <td>735</td>\n",
       "      <td>[141.61239235148153, 128.8980612883052]</td>\n",
       "      <td>[25.20286940542918, 25.301449256950722]</td>\n",
       "      <td>[312.8822186454931]</td>\n",
       "      <td>[31902, 37181]</td>\n",
       "      <td>[41106, 52767]</td>\n",
       "      <td>[234.77236851810872, 233.5200340179994]</td>\n",
       "      <td>[46.329875196719016, 45.179467886728006]</td>\n",
       "      <td>[252.46830291739764]</td>\n",
       "      <td>[[[33.7576897543704, 33.2423102456296], [33.46...</td>\n",
       "      <td>...</td>\n",
       "      <td>[0.3414783535097695]</td>\n",
       "      <td>[0.5396632999788827]</td>\n",
       "      <td>[64086]</td>\n",
       "      <td>[175510]</td>\n",
       "      <td>[136.6168307111946]</td>\n",
       "      <td>[24.910513195379895]</td>\n",
       "      <td>[0.10099621196394097]</td>\n",
       "      <td>[0.2295027249177183]</td>\n",
       "      <td>[41993]</td>\n",
       "      <td>[271979]</td>\n",
       "    </tr>\n",
       "    <tr>\n",
       "      <th>113</th>\n",
       "      <td>736</td>\n",
       "      <td>[127.58605974395448, 131.00834953677227]</td>\n",
       "      <td>[14.71698602453987, 26.14441454332675]</td>\n",
       "      <td>[79.25635076008744]</td>\n",
       "      <td>[1412, 9917]</td>\n",
       "      <td>[703, 8743]</td>\n",
       "      <td>[232.8167590097253, 226.55450523688887]</td>\n",
       "      <td>[43.910204304880814, 55.75660499929508]</td>\n",
       "      <td>[35.834385333468795]</td>\n",
       "      <td>[[[38.79709077517941, 28.202909224820587], [-1...</td>\n",
       "      <td>...</td>\n",
       "      <td>NaN</td>\n",
       "      <td>NaN</td>\n",
       "      <td>[0]</td>\n",
       "      <td>[0]</td>\n",
       "      <td>[122.66857697743174]</td>\n",
       "      <td>[19.684888107956755]</td>\n",
       "      <td>[0.09727732223246374]</td>\n",
       "      <td>[0.27924586482016833]</td>\n",
       "      <td>[64966]</td>\n",
       "      <td>[115339]</td>\n",
       "    </tr>\n",
       "    <tr>\n",
       "      <th>132</th>\n",
       "      <td>738</td>\n",
       "      <td>[120.778276481149, 119.62228731194249]</td>\n",
       "      <td>[33.74493646379706, 26.5695166127415]</td>\n",
       "      <td>[254.88670342350173]</td>\n",
       "      <td>[4690, 8395]</td>\n",
       "      <td>[3342, 7511]</td>\n",
       "      <td>[230.53395027137802, 232.3895221215915]</td>\n",
       "      <td>[39.84969293282949, 37.81143563917897]</td>\n",
       "      <td>[208.34127688503767]</td>\n",
       "      <td>[[[26.693446901167164, 27.306553098832836], [2...</td>\n",
       "      <td>...</td>\n",
       "      <td>NaN</td>\n",
       "      <td>NaN</td>\n",
       "      <td>[1560]</td>\n",
       "      <td>[1201]</td>\n",
       "      <td>[165.07940560690395]</td>\n",
       "      <td>[28.785236216599127]</td>\n",
       "      <td>[0.13380514492085102]</td>\n",
       "      <td>[0.4505104163279234]</td>\n",
       "      <td>[34834]</td>\n",
       "      <td>[39166]</td>\n",
       "    </tr>\n",
       "    <tr>\n",
       "      <th>137</th>\n",
       "      <td>737</td>\n",
       "      <td>[141.414599717685, 139.79377328366152]</td>\n",
       "      <td>[21.72844087289227, 23.802044034874726]</td>\n",
       "      <td>[339.33619907486985]</td>\n",
       "      <td>[8151, 4616]</td>\n",
       "      <td>[9918, 3758]</td>\n",
       "      <td>[231.74985551811747, 235.0582567381555]</td>\n",
       "      <td>[46.94759777947199, 40.94577789976256]</td>\n",
       "      <td>[244.96432641613262]</td>\n",
       "      <td>[[[33.95957778577417, 33.04042221422583], [34....</td>\n",
       "      <td>...</td>\n",
       "      <td>[0.38082505962427726]</td>\n",
       "      <td>[0.6639644906434548]</td>\n",
       "      <td>[14111]</td>\n",
       "      <td>[27566]</td>\n",
       "      <td>[136.91284717789205]</td>\n",
       "      <td>[24.03000098202212]</td>\n",
       "      <td>[0.16822291162923123]</td>\n",
       "      <td>[0.3854737244499167]</td>\n",
       "      <td>[40296]</td>\n",
       "      <td>[86159]</td>\n",
       "    </tr>\n",
       "  </tbody>\n",
       "</table>\n",
       "<p>4 rows × 113 columns</p>\n",
       "</div>"
      ],
      "text/plain": [
       "      id                   eyes.iris.color_average  \\\n",
       "60   735   [141.61239235148153, 128.8980612883052]   \n",
       "113  736  [127.58605974395448, 131.00834953677227]   \n",
       "132  738    [120.778276481149, 119.62228731194249]   \n",
       "137  737    [141.414599717685, 139.79377328366152]   \n",
       "\n",
       "                         eyes.iris.color_std  \\\n",
       "60   [25.20286940542918, 25.301449256950722]   \n",
       "113   [14.71698602453987, 26.14441454332675]   \n",
       "132    [33.74493646379706, 26.5695166127415]   \n",
       "137  [21.72844087289227, 23.802044034874726]   \n",
       "\n",
       "    eyes.iris.distance_between_centers eyes.iris.surface_area  \\\n",
       "60                 [312.8822186454931]         [31902, 37181]   \n",
       "113                [79.25635076008744]           [1412, 9917]   \n",
       "132               [254.88670342350173]           [4690, 8395]   \n",
       "137               [339.33619907486985]           [8151, 4616]   \n",
       "\n",
       "    eyes.iris.volume                  eyes.lens.color_average  \\\n",
       "60    [41106, 52767]  [234.77236851810872, 233.5200340179994]   \n",
       "113      [703, 8743]  [232.8167590097253, 226.55450523688887]   \n",
       "132     [3342, 7511]  [230.53395027137802, 232.3895221215915]   \n",
       "137     [9918, 3758]  [231.74985551811747, 235.0582567381555]   \n",
       "\n",
       "                          eyes.lens.color_std  \\\n",
       "60   [46.329875196719016, 45.179467886728006]   \n",
       "113   [43.910204304880814, 55.75660499929508]   \n",
       "132    [39.84969293282949, 37.81143563917897]   \n",
       "137    [46.94759777947199, 40.94577789976256]   \n",
       "\n",
       "    eyes.lens.distance_between_centers  \\\n",
       "60                [252.46830291739764]   \n",
       "113               [35.834385333468795]   \n",
       "132               [208.34127688503767]   \n",
       "137               [244.96432641613262]   \n",
       "\n",
       "                                eyes.lens.radius_axial  ...  \\\n",
       "60   [[[33.7576897543704, 33.2423102456296], [33.46...  ...   \n",
       "113  [[[38.79709077517941, 28.202909224820587], [-1...  ...   \n",
       "132  [[[26.693446901167164, 27.306553098832836], [2...  ...   \n",
       "137  [[[33.95957778577417, 33.04042221422583], [34....  ...   \n",
       "\n",
       "    heartkidney.right_kidney.eccentricity_equatorial  \\\n",
       "60                              [0.3414783535097695]   \n",
       "113                                              NaN   \n",
       "132                                              NaN   \n",
       "137                            [0.38082505962427726]   \n",
       "\n",
       "    heartkidney.right_kidney.eccentricity_meridional  \\\n",
       "60                              [0.5396632999788827]   \n",
       "113                                              NaN   \n",
       "132                                              NaN   \n",
       "137                             [0.6639644906434548]   \n",
       "\n",
       "    heartkidney.right_kidney.surface_area heartkidney.right_kidney.volume  \\\n",
       "60                                [64086]                        [175510]   \n",
       "113                                   [0]                             [0]   \n",
       "132                                [1560]                          [1201]   \n",
       "137                               [14111]                         [27566]   \n",
       "\n",
       "    heartkidney.ventricle.color_average heartkidney.ventricle.color_std  \\\n",
       "60                  [136.6168307111946]            [24.910513195379895]   \n",
       "113                [122.66857697743174]            [19.684888107956755]   \n",
       "132                [165.07940560690395]            [28.785236216599127]   \n",
       "137                [136.91284717789205]             [24.03000098202212]   \n",
       "\n",
       "    heartkidney.ventricle.eccentricity_equatorial  \\\n",
       "60                          [0.10099621196394097]   \n",
       "113                         [0.09727732223246374]   \n",
       "132                         [0.13380514492085102]   \n",
       "137                         [0.16822291162923123]   \n",
       "\n",
       "    heartkidney.ventricle.eccentricity_meridional  \\\n",
       "60                           [0.2295027249177183]   \n",
       "113                         [0.27924586482016833]   \n",
       "132                          [0.4505104163279234]   \n",
       "137                          [0.3854737244499167]   \n",
       "\n",
       "    heartkidney.ventricle.surface_area heartkidney.ventricle.volume  \n",
       "60                             [41993]                     [271979]  \n",
       "113                            [64966]                     [115339]  \n",
       "132                            [34834]                      [39166]  \n",
       "137                            [40296]                      [86159]  \n",
       "\n",
       "[4 rows x 113 columns]"
      ]
     },
     "execution_count": 117,
     "metadata": {},
     "output_type": "execute_result"
    }
   ],
   "source": [
    "db_2018_11[db_2018_11.line=='137-4']"
   ]
  },
  {
   "cell_type": "code",
   "execution_count": 116,
   "metadata": {},
   "outputs": [
    {
     "data": {
      "text/plain": [
       "line\n",
       "11-1      9\n",
       "123-2     6\n",
       "131-4     3\n",
       "133-2     1\n",
       "134-1     4\n",
       "135-1     6\n",
       "137-4     4\n",
       "14-1      5\n",
       "18-2      8\n",
       "21-2     10\n",
       "23-1      9\n",
       "25-1      2\n",
       "29-1     10\n",
       "30-1      8\n",
       "32-2      5\n",
       "33-1      8\n",
       "39-1      4\n",
       "39-2     11\n",
       "49-1     16\n",
       "5-1       9\n",
       "50-2     12\n",
       "55-2      6\n",
       "58-2     14\n",
       "59-2     11\n",
       "61-1      7\n",
       "68-1      7\n",
       "69-1     13\n",
       "72-1      7\n",
       "72-2     12\n",
       "75-1      4\n",
       "80-1     13\n",
       "80-2     12\n",
       "89-1N    11\n",
       "Ho5      57\n",
       "Name: id, dtype: int64"
      ]
     },
     "execution_count": 116,
     "metadata": {},
     "output_type": "execute_result"
    }
   ],
   "source": [
    "db_2018_11.groupby('line').id.count()"
   ]
  },
  {
   "cell_type": "code",
   "execution_count": 114,
   "metadata": {},
   "outputs": [
    {
     "data": {
      "text/plain": [
       "11-1              0.900000\n",
       "123-2             1.000000\n",
       "131-4                  NaN\n",
       "131-4_large            NaN\n",
       "133-2                  NaN\n",
       "133-2_large            NaN\n",
       "134-1             1.000000\n",
       "135-1             0.857143\n",
       "137-4             1.333333\n",
       "14-1              1.000000\n",
       "18-2              1.000000\n",
       "21-2              0.714286\n",
       "23-1              1.000000\n",
       "25-1              0.666667\n",
       "29-1              0.909091\n",
       "30-1              1.000000\n",
       "32-2                   NaN\n",
       "32-2_large             NaN\n",
       "33-1              1.000000\n",
       "39-1              0.444444\n",
       "39-2              1.833333\n",
       "49-1              1.000000\n",
       "5-1               1.000000\n",
       "50-2              1.000000\n",
       "55-2              1.000000\n",
       "58-2              1.000000\n",
       "59-2              1.000000\n",
       "61-1              1.000000\n",
       "68-1              1.000000\n",
       "69-1              1.000000\n",
       "72-1              1.000000\n",
       "72-2              1.000000\n",
       "75-1              1.000000\n",
       "80-1              0.928571\n",
       "80-2              1.000000\n",
       "89-1                   NaN\n",
       "89-1N             5.500000\n",
       "Ho5               0.982759\n",
       "iCab_unstained         NaN\n",
       "dtype: float64"
      ]
     },
     "execution_count": 114,
     "metadata": {},
     "output_type": "execute_result"
    }
   ],
   "source": [
    "db_2018_11.groupby('line').id.count() / pd.Series(Counter(lines_2018_11))"
   ]
  },
  {
   "cell_type": "code",
   "execution_count": null,
   "metadata": {},
   "outputs": [],
   "source": [
    "whole_db[whole_db.id <]"
   ]
  },
  {
   "cell_type": "code",
   "execution_count": null,
   "metadata": {},
   "outputs": [],
   "source": [
    "attempted = 340+232\n",
    "possible_fields = (set([i for rec in iface.as_table([]) for i in rec.keys()]) \n",
    "                   - {'line', 'id', 'sex', 'age', 'generation'})\n",
    "_db_statistics(possible_fields, attempted)"
   ]
  },
  {
   "cell_type": "markdown",
   "metadata": {},
   "source": [
    "## Make update to the FTP server"
   ]
  },
  {
   "cell_type": "code",
   "execution_count": 10,
   "metadata": {
    "scrolled": true
   },
   "outputs": [
    {
     "data": {
      "application/vnd.jupyter.widget-view+json": {
       "model_id": "51e2a340a22144aa989313f13fabd150",
       "version_major": 2,
       "version_minor": 0
      },
      "text/plain": [
       "HBox(children=(IntProgress(value=0, max=84), HTML(value='')))"
      ]
     },
     "metadata": {},
     "output_type": "display_data"
    },
    {
     "name": "stdout",
     "output_type": "stream",
     "text": [
      "\n"
     ]
    }
   ],
   "source": [
    "## generating and uploading all datasets\n",
    "\n",
    "for measurement_key in tqdm(possible_fields):\n",
    "    df = get_df(iface, measurement_key)\n",
    "    save_df_to_ftp(df, measurement_key)"
   ]
  },
  {
   "cell_type": "code",
   "execution_count": 53,
   "metadata": {},
   "outputs": [
    {
     "name": "stdout",
     "output_type": "stream",
     "text": [
      "drwxrws---    2 ftp      ftp          4096 Apr 01  2021 backup\n",
      "-rw-rw----    1 ftp      ftp          7509 Nov 09 14:23 brain.cerebellum.color_average.txt\n",
      "-rw-rw----    1 ftp      ftp          7506 Nov 09 14:23 brain.cerebellum.color_std.txt\n",
      "-rw-rw----    1 ftp      ftp          7274 Nov 09 14:23 brain.cerebellum.eccentricity_equatorial.txt\n",
      "-rw-rw----    1 ftp      ftp          7212 Nov 09 14:23 brain.cerebellum.eccentricity_meridional.txt\n",
      "-rw-rw----    1 ftp      ftp          5133 Nov 09 14:23 brain.cerebellum.surface_area.txt\n",
      "-rw-rw----    1 ftp      ftp          5232 Nov 09 14:23 brain.cerebellum.volume.txt\n",
      "-rw-rw----    1 ftp      ftp          5252 Nov 09 14:23 brain.epyphysis.color_average.txt\n",
      "-rw-rw----    1 ftp      ftp          5247 Nov 09 14:23 brain.epyphysis.color_std.txt\n",
      "-rw-rw----    1 ftp      ftp          4565 Nov 09 14:23 brain.epyphysis.surface_area.txt\n",
      "-rw-rw----    1 ftp      ftp          4568 Nov 09 14:23 brain.epyphysis.volume.txt\n",
      "-rw-rw----    1 ftp      ftp          7475 Nov 09 14:23 brain.forebrain.color_average.txt\n",
      "-rw-rw----    1 ftp      ftp          7505 Nov 09 14:23 brain.forebrain.color_std.txt\n",
      "-rw-rw----    1 ftp      ftp          7120 Nov 09 14:23 brain.forebrain.eccentricity_equatorial.txt\n",
      "-rw-rw----    1 ftp      ftp          7051 Nov 09 14:23 brain.forebrain.eccentricity_meridional.txt\n",
      "-rw-rw----    1 ftp      ftp          5139 Nov 09 14:23 brain.forebrain.surface_area.txt\n",
      "-rw-rw----    1 ftp      ftp          5284 Nov 09 14:23 brain.forebrain.volume.txt\n",
      "-rw-rw----    1 ftp      ftp          7572 Nov 09 14:23 brain.hindbrain.color_average.txt\n",
      "-rw-rw----    1 ftp      ftp          7619 Nov 09 14:23 brain.hindbrain.color_std.txt\n",
      "-rw-rw----    1 ftp      ftp          7428 Nov 09 14:23 brain.hindbrain.eccentricity_equatorial.txt\n",
      "-rw-rw----    1 ftp      ftp          7327 Nov 09 14:23 brain.hindbrain.eccentricity_meridional.txt\n",
      "-rw-rw----    1 ftp      ftp          5296 Nov 09 14:23 brain.hindbrain.surface_area.txt\n",
      "-rw-rw----    1 ftp      ftp          5331 Nov 09 14:23 brain.hindbrain.volume.txt\n",
      "-rw-rw----    1 ftp      ftp          5374 Nov 09 14:23 brain.hypophysis.color_average.txt\n",
      "-rw-rw----    1 ftp      ftp          5363 Nov 09 14:23 brain.hypophysis.color_std.txt\n",
      "-rw-rw----    1 ftp      ftp          4587 Nov 09 14:23 brain.hypophysis.surface_area.txt\n",
      "-rw-rw----    1 ftp      ftp          4586 Nov 09 14:23 brain.hypophysis.volume.txt\n",
      "-rw-rw----    1 ftp      ftp          7599 Nov 09 14:23 brain.midbrain.color_average.txt\n",
      "-rw-rw----    1 ftp      ftp          7713 Nov 09 14:23 brain.midbrain.color_std.txt\n",
      "-rw-rw----    1 ftp      ftp          7674 Nov 09 14:23 brain.midbrain.eccentricity_equatorial.txt\n",
      "-rw-rw----    1 ftp      ftp          7576 Nov 09 14:23 brain.midbrain.eccentricity_meridional.txt\n",
      "-rw-rw----    1 ftp      ftp          5226 Nov 09 14:23 brain.midbrain.surface_area.txt\n",
      "-rw-rw----    1 ftp      ftp          5345 Nov 09 14:23 brain.midbrain.volume.txt\n",
      "-rw-rw----    1 ftp      ftp          7186 Nov 09 14:23 brain.optical_nerves.color_average.txt\n",
      "-rw-rw----    1 ftp      ftp          7167 Nov 09 14:23 brain.optical_nerves.color_std.txt\n",
      "-rw-rw----    1 ftp      ftp          4909 Nov 09 14:23 brain.optical_nerves.eccentricity_equatorial.txt\n",
      "-rw-rw----    1 ftp      ftp          4821 Nov 09 14:23 brain.optical_nerves.eccentricity_meridional.txt\n",
      "-rw-rw----    1 ftp      ftp          4993 Nov 09 14:23 brain.optical_nerves.surface_area.txt\n",
      "-rw-rw----    1 ftp      ftp          4992 Nov 09 14:23 brain.optical_nerves.volume.txt\n",
      "-rw-rw----    1 ftp      ftp         15568 Nov 09 14:23 brain.optical_tectum.color_average.txt\n",
      "-rw-rw----    1 ftp      ftp         15557 Nov 09 14:23 brain.optical_tectum.color_std.txt\n",
      "-rw-rw----    1 ftp      ftp          7806 Nov 09 14:23 brain.optical_tectum.distance_between_centers.txt\n",
      "-rw-rw----    1 ftp      ftp         15653 Nov 09 14:23 brain.optical_tectum.eccentricity_equatorial.txt\n",
      "-rw-rw----    1 ftp      ftp         15475 Nov 09 14:23 brain.optical_tectum.eccentricity_meridional.txt\n",
      "-rw-rw----    1 ftp      ftp         10337 Nov 09 14:23 brain.optical_tectum.surface_area.txt\n",
      "-rw-rw----    1 ftp      ftp         10643 Nov 09 14:23 brain.optical_tectum.volume.txt\n",
      "-rw-rw----    1 ftp      ftp          6794 Nov 09 14:23 brain.torus_longuthing.color_average.txt\n",
      "-rw-rw----    1 ftp      ftp          6799 Nov 09 14:23 brain.torus_longuthing.color_std.txt\n",
      "-rw-rw----    1 ftp      ftp          4832 Nov 09 14:23 brain.torus_longuthing.surface_area.txt\n",
      "-rw-rw----    1 ftp      ftp          4849 Nov 09 14:23 brain.torus_longuthing.volume.txt\n",
      "-rw-rw----    1 ftp      ftp         23723 Nov 09 14:23 eyes.iris.color_average.txt\n",
      "-rw-rw----    1 ftp      ftp         23680 Nov 09 14:23 eyes.iris.color_std.txt\n",
      "-rw-rw----    1 ftp      ftp         11558 Nov 09 14:23 eyes.iris.distance_between_centers.txt\n",
      "-rw-rw----    1 ftp      ftp         18471 Nov 09 14:23 eyes.iris.eccentricity_meridional.txt\n",
      "-rw-rw----    1 ftp      ftp         16033 Nov 09 14:23 eyes.iris.surface_area.txt\n",
      "-rw-rw----    1 ftp      ftp         16030 Nov 09 14:23 eyes.iris.volume.txt\n",
      "-rw-rw----    1 ftp      ftp         24563 Nov 09 14:23 eyes.lens.color_average.txt\n",
      "-rw-rw----    1 ftp      ftp         24298 Nov 09 14:23 eyes.lens.color_std.txt\n",
      "-rw-rw----    1 ftp      ftp         12285 Nov 09 14:23 eyes.lens.distance_between_centers.txt\n",
      "-rw-rw----    1 ftp      ftp        143819 Nov 09 14:23 eyes.lens.radius_axial.txt\n",
      "-rw-rw----    1 ftp      ftp         16350 Nov 09 14:23 eyes.lens.surface_area.txt\n",
      "-rw-rw----    1 ftp      ftp         74384 Nov 09 14:23 eyes.lens.thickness_axial.txt\n",
      "-rw-rw----    1 ftp      ftp         16457 Nov 09 14:23 eyes.lens.volume.txt\n",
      "-rw-rw----    1 ftp      ftp         24201 Nov 09 14:23 eyes.muscles.color_average.txt\n",
      "-rw-rw----    1 ftp      ftp         24046 Nov 09 14:23 eyes.muscles.color_std.txt\n",
      "-rw-rw----    1 ftp      ftp         12085 Nov 09 14:23 eyes.muscles.distance_between_centers.txt\n",
      "-rw-rw----    1 ftp      ftp         17341 Nov 09 14:23 eyes.muscles.eccentricity_meridional.txt\n",
      "-rw-rw----    1 ftp      ftp         16136 Nov 09 14:23 eyes.muscles.surface_area.txt\n",
      "-rw-rw----    1 ftp      ftp         16069 Nov 09 14:23 eyes.muscles.volume.txt\n",
      "-rw-rw----    1 ftp      ftp         10717 Nov 09 14:23 eyes.nerve.color_average.txt\n",
      "-rw-rw----    1 ftp      ftp         10706 Nov 09 14:23 eyes.nerve.color_std.txt\n",
      "-rw-rw----    1 ftp      ftp          7727 Nov 09 14:23 eyes.nerve.surface_area.txt\n",
      "-rw-rw----    1 ftp      ftp          7719 Nov 09 14:23 eyes.nerve.volume.txt\n",
      "-rw-rw----    1 ftp      ftp         24472 Nov 09 14:23 eyes.retina.color_average.txt\n",
      "-rw-rw----    1 ftp      ftp         24450 Nov 09 14:23 eyes.retina.color_std.txt\n",
      "-rw-rw----    1 ftp      ftp         12224 Nov 09 14:23 eyes.retina.distance_between_centers.txt\n",
      "-rw-rw----    1 ftp      ftp         24879 Nov 09 14:23 eyes.retina.eccentricity_meridional.txt\n",
      "-rw-rw----    1 ftp      ftp         16806 Nov 09 14:23 eyes.retina.surface_area.txt\n",
      "-rw-rw----    1 ftp      ftp         16960 Nov 09 14:23 eyes.retina.volume.txt\n",
      "-rw-rw----    1 ftp      ftp         11250 Nov 09 14:23 liver.liver.color_average.txt\n",
      "-rw-rw----    1 ftp      ftp         11209 Nov 09 14:23 liver.liver.color_std.txt\n",
      "-rw-rw----    1 ftp      ftp         11460 Nov 09 14:23 liver.liver.eccentricity_equatorial.txt\n",
      "-rw-rw----    1 ftp      ftp         11342 Nov 09 14:23 liver.liver.eccentricity_meridional.txt\n",
      "-rw-rw----    1 ftp      ftp          7741 Nov 09 14:23 liver.liver.surface_area.txt\n",
      "-rw-rw----    1 ftp      ftp          7894 Nov 09 14:23 liver.liver.volume.txt\n",
      "None\n"
     ]
    }
   ],
   "source": [
    "list_ftp();"
   ]
  }
 ],
 "metadata": {
  "kernelspec": {
   "display_name": "Python 3 (ipykernel)",
   "language": "python",
   "name": "python3"
  },
  "language_info": {
   "codemirror_mode": {
    "name": "ipython",
    "version": 3
   },
   "file_extension": ".py",
   "mimetype": "text/x-python",
   "name": "python",
   "nbconvert_exporter": "python",
   "pygments_lexer": "ipython3",
   "version": "3.7.3"
  }
 },
 "nbformat": 4,
 "nbformat_minor": 4
}
