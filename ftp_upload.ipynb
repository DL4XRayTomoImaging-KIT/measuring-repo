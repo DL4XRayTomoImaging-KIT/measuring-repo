{
 "cells": [
  {
   "cell_type": "code",
   "execution_count": 1,
   "metadata": {},
   "outputs": [],
   "source": [
    "from measure import get_database_interface\n",
    "import yaml"
   ]
  },
  {
   "cell_type": "code",
   "execution_count": 2,
   "metadata": {},
   "outputs": [],
   "source": [
    "import pandas as pd\n",
    "from ftplib import *\n",
    "from io import StringIO\n",
    "import io"
   ]
  },
  {
   "cell_type": "code",
   "execution_count": 3,
   "metadata": {},
   "outputs": [],
   "source": [
    "from tqdm.auto import tqdm"
   ]
  },
  {
   "cell_type": "code",
   "execution_count": 47,
   "metadata": {},
   "outputs": [],
   "source": [
    "def save_df_to_ftp(df, pretty_name, verbose=False):\n",
    "    # function to put the generated values directly to FTP\n",
    "    ftp = FTP('ftp-private.ebi.ac.uk')\n",
    "\n",
    "    ftp.login('indigene_ftp', password)\n",
    "    ftp.cwd('/upload/ct_scans/morphometric_analysis')\n",
    "    \n",
    "    buffer = StringIO()\n",
    "    df.to_csv(buffer, header=True, index=False, columns=['fish_id', 'line_id', 'fish_sex', 'fish_age', 'fish_generation', 'measurement'])\n",
    "    text = buffer.getvalue()\n",
    "    bio = io.BytesIO(str.encode(text))\n",
    "    \n",
    "    ftp.storbinary(f'STOR {pretty_name}.txt', bio)\n",
    "    \n",
    "    if verbose:\n",
    "        print(ftp.dir())"
   ]
  },
  {
   "cell_type": "code",
   "execution_count": 5,
   "metadata": {},
   "outputs": [],
   "source": [
    "def list_ftp():\n",
    "    # function to put the generated values directly to FTP\n",
    "    ftp = FTP('ftp-private.ebi.ac.uk')\n",
    "\n",
    "    ftp.login('indigene_ftp', password) # don't forget to remove the pass before the git-committing\n",
    "    ftp.cwd('/upload/ct_scans/morphometric_analysis')\n",
    "    \n",
    "    print(ftp.dir())"
   ]
  },
  {
   "cell_type": "code",
   "execution_count": 6,
   "metadata": {},
   "outputs": [],
   "source": [
    "def get_df(iface, par_name):\n",
    "    # create dataframe from the database\n",
    "        \n",
    "    selection = iface.as_table([par_name, 'line', 'id', 'sex', 'age', 'generation'])\n",
    "    df = pd.DataFrame(selection)\n",
    "    df = df.loc[~df[par_name].isna()]\n",
    "    df = df.explode(par_name).explode(par_name).explode(par_name)\n",
    "    df = df.rename(columns={o:n for o,n in zip([par_name, 'line', 'id', 'sex', 'age', 'generation'], \n",
    "                                               ['measurement', 'line_id', 'fish_id', 'fish_sex', 'fish_age', 'fish_generation'])})\n",
    "    return df"
   ]
  },
  {
   "cell_type": "markdown",
   "metadata": {},
   "source": [
    "## Connect to the database and ftp"
   ]
  },
  {
   "cell_type": "code",
   "execution_count": 7,
   "metadata": {},
   "outputs": [],
   "source": [
    "with open('measurement_configs/processing/medaka_mongo.yaml') as f:\n",
    "    iface = get_database_interface(yaml.safe_load(f)['db'])"
   ]
  },
  {
   "cell_type": "code",
   "execution_count": 25,
   "metadata": {},
   "outputs": [
    {
     "name": "stdout",
     "output_type": "stream",
     "text": [
      "Password for the FTP, please: ········\n",
      "drwxrws---    2 ftp      ftp          4096 Apr 01  2021 backup\n",
      "-rw-rw----    1 ftp      ftp         18392 Aug 24 15:20 eyes.iris.color_average.txt\n",
      "-rw-rw----    1 ftp      ftp         18339 Aug 24 15:20 eyes.iris.color_std.txt\n",
      "-rw-rw----    1 ftp      ftp          8940 Aug 24 15:20 eyes.iris.distance_between_centers.txt\n",
      "-rw-rw----    1 ftp      ftp         14371 Aug 24 15:20 eyes.iris.eccentricity_meridional.txt\n",
      "-rw-rw----    1 ftp      ftp         12353 Aug 24 15:20 eyes.iris.surface_area.txt\n",
      "-rw-rw----    1 ftp      ftp         12356 Aug 24 15:20 eyes.iris.volume.txt\n",
      "-rw-rw----    1 ftp      ftp         18849 Aug 24 15:20 eyes.lens.color_average.txt\n",
      "-rw-rw----    1 ftp      ftp         18635 Aug 24 15:20 eyes.lens.color_std.txt\n",
      "-rw-rw----    1 ftp      ftp          9444 Aug 24 15:20 eyes.lens.distance_between_centers.txt\n",
      "-rw-rw----    1 ftp      ftp        110576 Aug 24 15:20 eyes.lens.radius_axial.txt\n",
      "-rw-rw----    1 ftp      ftp         12559 Aug 24 15:20 eyes.lens.surface_area.txt\n",
      "-rw-rw----    1 ftp      ftp         51587 Aug 24 15:20 eyes.lens.thickness_axial.txt\n",
      "-rw-rw----    1 ftp      ftp         12639 Aug 24 15:20 eyes.lens.volume.txt\n",
      "-rw-rw----    1 ftp      ftp         18625 Aug 24 15:20 eyes.muscles.color_average.txt\n",
      "-rw-rw----    1 ftp      ftp         18509 Aug 24 15:20 eyes.muscles.color_std.txt\n",
      "-rw-rw----    1 ftp      ftp          9257 Aug 24 15:20 eyes.muscles.distance_between_centers.txt\n",
      "-rw-rw----    1 ftp      ftp         14427 Aug 24 15:20 eyes.muscles.eccentricity_meridional.txt\n",
      "-rw-rw----    1 ftp      ftp         12428 Aug 24 15:20 eyes.muscles.surface_area.txt\n",
      "-rw-rw----    1 ftp      ftp         12376 Aug 24 15:20 eyes.muscles.volume.txt\n",
      "-rw-rw----    1 ftp      ftp          9349 Aug 24 15:20 eyes.nerve.color_average.txt\n",
      "-rw-rw----    1 ftp      ftp          9351 Aug 24 15:20 eyes.nerve.color_std.txt\n",
      "-rw-rw----    1 ftp      ftp          6149 Aug 24 15:20 eyes.nerve.surface_area.txt\n",
      "-rw-rw----    1 ftp      ftp          6125 Aug 24 15:20 eyes.nerve.volume.txt\n",
      "-rw-rw----    1 ftp      ftp         18729 Aug 24 15:20 eyes.retina.color_average.txt\n",
      "-rw-rw----    1 ftp      ftp         18701 Aug 24 15:20 eyes.retina.color_std.txt\n",
      "-rw-rw----    1 ftp      ftp          9328 Aug 24 15:20 eyes.retina.distance_between_centers.txt\n",
      "-rw-rw----    1 ftp      ftp         18708 Aug 24 15:20 eyes.retina.eccentricity_meridional.txt\n",
      "-rw-rw----    1 ftp      ftp         12923 Aug 24 15:20 eyes.retina.surface_area.txt\n",
      "-rw-rw----    1 ftp      ftp         13011 Aug 24 15:20 eyes.retina.volume.txt\n",
      "-rw-rw----    1 ftp      ftp          3245 Apr 01  2021 liver.iris.color_average.txt\n",
      "-rw-rw----    1 ftp      ftp          3232 Apr 01  2021 liver.iris.color_std.txt\n",
      "-rw-rw----    1 ftp      ftp          3339 Apr 01  2021 liver.iris.eccentricity_equatorial.txt\n",
      "-rw-rw----    1 ftp      ftp          3302 Apr 01  2021 liver.iris.eccentricity_meridional.txt\n",
      "-rw-rw----    1 ftp      ftp          2178 Apr 01  2021 liver.iris.surface_area.txt\n",
      "-rw-rw----    1 ftp      ftp          2241 Apr 01  2021 liver.iris.volume.txt\n",
      "None\n"
     ]
    }
   ],
   "source": [
    "# Getting password for the FTP\n",
    "\n",
    "import getpass\n",
    "password = getpass.getpass(prompt='Password for the FTP, please: ')\n",
    "try:\n",
    "    list_ftp()\n",
    "except error_perm:\n",
    "    print('Password is incorrect! Please, re-run this cell and try again.')"
   ]
  },
  {
   "cell_type": "markdown",
   "metadata": {},
   "source": [
    "## Adding meta-information to the database"
   ]
  },
  {
   "cell_type": "code",
   "execution_count": 27,
   "metadata": {},
   "outputs": [],
   "source": [
    "scan_201811 = pd.read_excel('samplelist_complete.xlsx', sheet_name=4)\n",
    "scan_201905 = pd.read_excel('samplelist_complete.xlsx', sheet_name=3)\n",
    "scan_201912 = pd.read_excel('samplelist_complete.xlsx', sheet_name=2)\n",
    "scan_202012 = pd.read_excel('samplelist_complete.xlsx', sheet_name=1)\n",
    "\n",
    "all_scans = pd.concat([scan_201811, scan_201905, scan_201912, scan_202012])\n",
    "all_scans = all_scans[all_scans['Scanned stained'].isin(['yes', 'Yes', 'Scanned', 'scanned'])]\n",
    "all_scans = all_scans[['S.No', 'Line', 'Gen.', 'Sex', 'DOB', 'DOS']]\n",
    "all_scans['age'] = (all_scans['DOS'] - pd.to_datetime(all_scans['DOB'], errors='coerce')).dt.days\n",
    "all_scans = all_scans.drop(['DOS', 'DOB'], axis=1)\n",
    "\n",
    "all_scans = all_scans.rename(columns={'S.No': 'id', 'Line': 'line', 'Gen.': 'generation', 'Sex': 'sex', 'age':'age'})\n",
    "all_scans['id'] = pd.to_numeric(all_scans['id'], errors='coerce')\n",
    "all_scans = all_scans[~all_scans.isna()['id']]\n",
    "all_scans['id'] = all_scans['id'].astype(int).astype(str)"
   ]
  },
  {
   "cell_type": "code",
   "execution_count": 30,
   "metadata": {},
   "outputs": [],
   "source": [
    "set_of_reliable_ids = set([i['id'] for i in iface.as_table([])]) & set(all_scans.id)"
   ]
  },
  {
   "cell_type": "code",
   "execution_count": 35,
   "metadata": {},
   "outputs": [
    {
     "data": {
      "application/vnd.jupyter.widget-view+json": {
       "model_id": "a2ceceaf5f8546189ce7243c2ca49a26",
       "version_major": 2,
       "version_minor": 0
      },
      "text/plain": [
       "HBox(children=(IntProgress(value=0, max=324), HTML(value='')))"
      ]
     },
     "metadata": {},
     "output_type": "display_data"
    },
    {
     "name": "stdout",
     "output_type": "stream",
     "text": [
      "\n"
     ]
    }
   ],
   "source": [
    "for id in tqdm(set_of_reliable_ids):\n",
    "    iface.update_sample_record(all_scans[all_scans['id'] == id].iloc[0].to_dict())"
   ]
  },
  {
   "cell_type": "markdown",
   "metadata": {},
   "source": [
    "## Generating the dataframes with all measurements available to be saved"
   ]
  },
  {
   "cell_type": "code",
   "execution_count": 42,
   "metadata": {
    "scrolled": false
   },
   "outputs": [
    {
     "data": {
      "application/vnd.jupyter.widget-view+json": {
       "model_id": "041c4c5eaebe4950a19416a4a703f627",
       "version_major": 2,
       "version_minor": 0
      },
      "text/plain": [
       "HBox(children=(IntProgress(value=0, max=35), HTML(value='')))"
      ]
     },
     "metadata": {},
     "output_type": "display_data"
    },
    {
     "name": "stdout",
     "output_type": "stream",
     "text": [
      "eyes.muscles.surface_area 324\n",
      "eyes.nerve.color_std 234\n",
      "eyes.nerve.surface_area 324\n",
      "liver.liver.color_std 293\n",
      "liver.liver.surface_area 298\n",
      "eyes.lens.surface_area 324\n",
      "eyes.muscles.distance_between_centers 312\n",
      "eyes.muscles.volume 324\n",
      "eyes.iris.color_std 315\n",
      "eyes.lens.radius_axial 319\n",
      "eyes.lens.distance_between_centers 324\n",
      "eyes.iris.volume 324\n",
      "eyes.retina.volume 324\n",
      "eyes.nerve.color_average 234\n",
      "eyes.lens.color_average 324\n",
      "eyes.nerve.volume 324\n",
      "eyes.retina.color_average 324\n",
      "eyes.retina.surface_area 324\n",
      "eyes.iris.eccentricity_meridional 242\n",
      "eyes.lens.volume 324\n",
      "liver.liver.eccentricity_equatorial 293\n",
      "liver.liver.eccentricity_meridional 293\n",
      "eyes.lens.color_std 324\n",
      "eyes.muscles.color_average 316\n",
      "eyes.muscles.eccentricity_meridional 225\n",
      "eyes.muscles.color_std 316\n",
      "liver.liver.volume 298\n",
      "eyes.lens.thickness_axial 293\n",
      "liver.liver.color_average 293\n",
      "eyes.iris.color_average 315\n",
      "eyes.retina.eccentricity_meridional 320\n",
      "eyes.retina.distance_between_centers 320\n",
      "eyes.retina.color_std 324\n",
      "eyes.iris.surface_area 324\n",
      "eyes.iris.distance_between_centers 286\n",
      "\n"
     ]
    }
   ],
   "source": [
    "possible_fields = set([i for rec in iface.as_table([]) for i in rec.keys()]) - {'line', 'id', 'sex', 'age', 'generation'}\n",
    "for measurement_key in tqdm(possible_fields):\n",
    "    df = get_df(iface, measurement_key)\n",
    "    print(measurement_key, df.dropna(how='any', subset=['measurement']).fish_id.nunique())"
   ]
  },
  {
   "cell_type": "code",
   "execution_count": 48,
   "metadata": {
    "scrolled": true
   },
   "outputs": [
    {
     "data": {
      "application/vnd.jupyter.widget-view+json": {
       "model_id": "9f10761e6034405b94d9b133291ab364",
       "version_major": 2,
       "version_minor": 0
      },
      "text/plain": [
       "HBox(children=(IntProgress(value=0, max=35), HTML(value='')))"
      ]
     },
     "metadata": {},
     "output_type": "display_data"
    },
    {
     "name": "stdout",
     "output_type": "stream",
     "text": [
      "\n"
     ]
    }
   ],
   "source": [
    "## generating and uploading all datasets\n",
    "\n",
    "for measurement_key in tqdm(possible_fields):\n",
    "    df = get_df(iface, measurement_key)\n",
    "    save_df_to_ftp(df, measurement_key)"
   ]
  },
  {
   "cell_type": "code",
   "execution_count": 49,
   "metadata": {},
   "outputs": [
    {
     "name": "stdout",
     "output_type": "stream",
     "text": [
      "drwxrws---    2 ftp      ftp          4096 Apr 01  2021 backup\n",
      "-rw-rw----    1 ftp      ftp         23723 Oct 05 10:48 eyes.iris.color_average.txt\n",
      "-rw-rw----    1 ftp      ftp         23680 Oct 05 10:47 eyes.iris.color_std.txt\n",
      "-rw-rw----    1 ftp      ftp         11558 Oct 05 10:49 eyes.iris.distance_between_centers.txt\n",
      "-rw-rw----    1 ftp      ftp         18471 Oct 05 10:48 eyes.iris.eccentricity_meridional.txt\n",
      "-rw-rw----    1 ftp      ftp         16033 Oct 05 10:49 eyes.iris.surface_area.txt\n",
      "-rw-rw----    1 ftp      ftp         16030 Oct 05 10:47 eyes.iris.volume.txt\n",
      "-rw-rw----    1 ftp      ftp         24563 Oct 05 10:47 eyes.lens.color_average.txt\n",
      "-rw-rw----    1 ftp      ftp         24298 Oct 05 10:48 eyes.lens.color_std.txt\n",
      "-rw-rw----    1 ftp      ftp         12285 Oct 05 10:47 eyes.lens.distance_between_centers.txt\n",
      "-rw-rw----    1 ftp      ftp        143819 Oct 05 10:47 eyes.lens.radius_axial.txt\n",
      "-rw-rw----    1 ftp      ftp         16350 Oct 05 10:47 eyes.lens.surface_area.txt\n",
      "-rw-rw----    1 ftp      ftp         74384 Oct 05 10:48 eyes.lens.thickness_axial.txt\n",
      "-rw-rw----    1 ftp      ftp         16457 Oct 05 10:48 eyes.lens.volume.txt\n",
      "-rw-rw----    1 ftp      ftp         24201 Oct 05 10:48 eyes.muscles.color_average.txt\n",
      "-rw-rw----    1 ftp      ftp         24046 Oct 05 10:48 eyes.muscles.color_std.txt\n",
      "-rw-rw----    1 ftp      ftp         12085 Oct 05 10:47 eyes.muscles.distance_between_centers.txt\n",
      "-rw-rw----    1 ftp      ftp         17341 Oct 05 10:48 eyes.muscles.eccentricity_meridional.txt\n",
      "-rw-rw----    1 ftp      ftp         16136 Oct 05 10:46 eyes.muscles.surface_area.txt\n",
      "-rw-rw----    1 ftp      ftp         16069 Oct 05 10:47 eyes.muscles.volume.txt\n",
      "-rw-rw----    1 ftp      ftp         10717 Oct 05 10:47 eyes.nerve.color_average.txt\n",
      "-rw-rw----    1 ftp      ftp         10706 Oct 05 10:47 eyes.nerve.color_std.txt\n",
      "-rw-rw----    1 ftp      ftp          7727 Oct 05 10:47 eyes.nerve.surface_area.txt\n",
      "-rw-rw----    1 ftp      ftp          7719 Oct 05 10:47 eyes.nerve.volume.txt\n",
      "-rw-rw----    1 ftp      ftp         24472 Oct 05 10:47 eyes.retina.color_average.txt\n",
      "-rw-rw----    1 ftp      ftp         24450 Oct 05 10:49 eyes.retina.color_std.txt\n",
      "-rw-rw----    1 ftp      ftp         12224 Oct 05 10:49 eyes.retina.distance_between_centers.txt\n",
      "-rw-rw----    1 ftp      ftp         24879 Oct 05 10:48 eyes.retina.eccentricity_meridional.txt\n",
      "-rw-rw----    1 ftp      ftp         16806 Oct 05 10:47 eyes.retina.surface_area.txt\n",
      "-rw-rw----    1 ftp      ftp         16960 Oct 05 10:47 eyes.retina.volume.txt\n",
      "-rw-rw----    1 ftp      ftp         11250 Oct 05 10:48 liver.liver.color_average.txt\n",
      "-rw-rw----    1 ftp      ftp         11209 Oct 05 10:47 liver.liver.color_std.txt\n",
      "-rw-rw----    1 ftp      ftp         11460 Oct 05 10:48 liver.liver.eccentricity_equatorial.txt\n",
      "-rw-rw----    1 ftp      ftp         11342 Oct 05 10:48 liver.liver.eccentricity_meridional.txt\n",
      "-rw-rw----    1 ftp      ftp          7741 Oct 05 10:47 liver.liver.surface_area.txt\n",
      "-rw-rw----    1 ftp      ftp          7894 Oct 05 10:48 liver.liver.volume.txt\n",
      "None\n"
     ]
    }
   ],
   "source": [
    "list_ftp()"
   ]
  }
 ],
 "metadata": {
  "kernelspec": {
   "display_name": "Python 3",
   "language": "python",
   "name": "python3"
  },
  "language_info": {
   "codemirror_mode": {
    "name": "ipython",
    "version": 3
   },
   "file_extension": ".py",
   "mimetype": "text/x-python",
   "name": "python",
   "nbconvert_exporter": "python",
   "pygments_lexer": "ipython3",
   "version": "3.7.3"
  }
 },
 "nbformat": 4,
 "nbformat_minor": 4
}
