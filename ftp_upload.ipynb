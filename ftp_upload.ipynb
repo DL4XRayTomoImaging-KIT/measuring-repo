{
 "cells": [
  {
   "cell_type": "code",
   "execution_count": 1,
   "metadata": {},
   "outputs": [],
   "source": [
    "from measure import get_database_interface\n",
    "import yaml"
   ]
  },
  {
   "cell_type": "code",
   "execution_count": 2,
   "metadata": {},
   "outputs": [],
   "source": [
    "import pandas as pd\n",
    "from ftplib import *\n",
    "from io import StringIO\n",
    "import io"
   ]
  },
  {
   "cell_type": "code",
   "execution_count": 3,
   "metadata": {},
   "outputs": [],
   "source": [
    "from tqdm.auto import tqdm"
   ]
  },
  {
   "cell_type": "code",
   "execution_count": 4,
   "metadata": {},
   "outputs": [],
   "source": [
    "def save_df_to_ftp(df, pretty_name, verbose=False):\n",
    "    # function to put the generated values directly to FTP\n",
    "    ftp = FTP('ftp-private.ebi.ac.uk')\n",
    "\n",
    "    ftp.login('indigene_ftp', password)\n",
    "    ftp.cwd('/upload/ct_scans/morphometric_analysis')\n",
    "    \n",
    "    buffer = StringIO()\n",
    "    df.to_csv(buffer, header=True, index=False)\n",
    "    text = buffer.getvalue()\n",
    "    bio = io.BytesIO(str.encode(text))\n",
    "    \n",
    "    ftp.storbinary(f'STOR {pretty_name}.txt', bio)\n",
    "    \n",
    "    if verbose:\n",
    "        print(ftp.dir())"
   ]
  },
  {
   "cell_type": "code",
   "execution_count": 5,
   "metadata": {},
   "outputs": [],
   "source": [
    "def list_ftp():\n",
    "    # function to put the generated values directly to FTP\n",
    "    ftp = FTP('ftp-private.ebi.ac.uk')\n",
    "\n",
    "    ftp.login('indigene_ftp', password) # don't forget to remove the pass before the git-committing\n",
    "    ftp.cwd('/upload/ct_scans/morphometric_analysis')\n",
    "    \n",
    "    print(ftp.dir())"
   ]
  },
  {
   "cell_type": "code",
   "execution_count": 6,
   "metadata": {},
   "outputs": [],
   "source": [
    "def get_df(iface, par_name):\n",
    "    # create dataframe from the database\n",
    "        \n",
    "    selection = iface.as_table([par_name, 'line', 'id', 'sex', 'age', 'generation'])\n",
    "    df = pd.DataFrame(selection)\n",
    "    df = df.loc[~df[par_name].isna()]\n",
    "    df = df.explode(par_name).explode(par_name).explode(par_name)\n",
    "    df = df.rename(columns={o:n for o,n in zip([par_name, 'line', 'id', 'sex', 'age', 'generation'], \n",
    "                                               ['measurement', 'line_id', 'fish_id', 'fish_sex', 'fish_age', 'fish_generation'])})\n",
    "    return df"
   ]
  },
  {
   "cell_type": "markdown",
   "metadata": {},
   "source": [
    "## Connect to the database and ftp"
   ]
  },
  {
   "cell_type": "code",
   "execution_count": 7,
   "metadata": {},
   "outputs": [],
   "source": [
    "with open('measurement_configs/processing/medaka_mongo.yaml') as f:\n",
    "    iface = get_database_interface(yaml.safe_load(f)['db'])"
   ]
  },
  {
   "cell_type": "code",
   "execution_count": 17,
   "metadata": {},
   "outputs": [
    {
     "name": "stdout",
     "output_type": "stream",
     "text": [
      "Password for the FTP, please: ········\n",
      "drwxrws---    2 ftp      ftp          4096 Apr 01  2021 backup\n",
      "-rw-rw----    1 ftp      ftp         18392 Aug 24 15:20 eyes.iris.color_average.txt\n",
      "-rw-rw----    1 ftp      ftp         18339 Aug 24 15:20 eyes.iris.color_std.txt\n",
      "-rw-rw----    1 ftp      ftp          8940 Aug 24 15:20 eyes.iris.distance_between_centers.txt\n",
      "-rw-rw----    1 ftp      ftp         14371 Aug 24 15:20 eyes.iris.eccentricity_meridional.txt\n",
      "-rw-rw----    1 ftp      ftp         12353 Aug 24 15:20 eyes.iris.surface_area.txt\n",
      "-rw-rw----    1 ftp      ftp         12356 Aug 24 15:20 eyes.iris.volume.txt\n",
      "-rw-rw----    1 ftp      ftp         18849 Aug 24 15:20 eyes.lens.color_average.txt\n",
      "-rw-rw----    1 ftp      ftp         18635 Aug 24 15:20 eyes.lens.color_std.txt\n",
      "-rw-rw----    1 ftp      ftp          9444 Aug 24 15:20 eyes.lens.distance_between_centers.txt\n",
      "-rw-rw----    1 ftp      ftp        110576 Aug 24 15:20 eyes.lens.radius_axial.txt\n",
      "-rw-rw----    1 ftp      ftp         12559 Aug 24 15:20 eyes.lens.surface_area.txt\n",
      "-rw-rw----    1 ftp      ftp         51587 Aug 24 15:20 eyes.lens.thickness_axial.txt\n",
      "-rw-rw----    1 ftp      ftp         12639 Aug 24 15:20 eyes.lens.volume.txt\n",
      "-rw-rw----    1 ftp      ftp         18625 Aug 24 15:20 eyes.muscles.color_average.txt\n",
      "-rw-rw----    1 ftp      ftp         18509 Aug 24 15:20 eyes.muscles.color_std.txt\n",
      "-rw-rw----    1 ftp      ftp          9257 Aug 24 15:20 eyes.muscles.distance_between_centers.txt\n",
      "-rw-rw----    1 ftp      ftp         14427 Aug 24 15:20 eyes.muscles.eccentricity_meridional.txt\n",
      "-rw-rw----    1 ftp      ftp         12428 Aug 24 15:20 eyes.muscles.surface_area.txt\n",
      "-rw-rw----    1 ftp      ftp         12376 Aug 24 15:20 eyes.muscles.volume.txt\n",
      "-rw-rw----    1 ftp      ftp          9349 Aug 24 15:20 eyes.nerve.color_average.txt\n",
      "-rw-rw----    1 ftp      ftp          9351 Aug 24 15:20 eyes.nerve.color_std.txt\n",
      "-rw-rw----    1 ftp      ftp          6149 Aug 24 15:20 eyes.nerve.surface_area.txt\n",
      "-rw-rw----    1 ftp      ftp          6125 Aug 24 15:20 eyes.nerve.volume.txt\n",
      "-rw-rw----    1 ftp      ftp         18729 Aug 24 15:20 eyes.retina.color_average.txt\n",
      "-rw-rw----    1 ftp      ftp         18701 Aug 24 15:20 eyes.retina.color_std.txt\n",
      "-rw-rw----    1 ftp      ftp          9328 Aug 24 15:20 eyes.retina.distance_between_centers.txt\n",
      "-rw-rw----    1 ftp      ftp         18708 Aug 24 15:20 eyes.retina.eccentricity_meridional.txt\n",
      "-rw-rw----    1 ftp      ftp         12923 Aug 24 15:20 eyes.retina.surface_area.txt\n",
      "-rw-rw----    1 ftp      ftp         13011 Aug 24 15:20 eyes.retina.volume.txt\n",
      "-rw-rw----    1 ftp      ftp          3245 Apr 01  2021 liver.iris.color_average.txt\n",
      "-rw-rw----    1 ftp      ftp          3232 Apr 01  2021 liver.iris.color_std.txt\n",
      "-rw-rw----    1 ftp      ftp          3339 Apr 01  2021 liver.iris.eccentricity_equatorial.txt\n",
      "-rw-rw----    1 ftp      ftp          3302 Apr 01  2021 liver.iris.eccentricity_meridional.txt\n",
      "-rw-rw----    1 ftp      ftp          2178 Apr 01  2021 liver.iris.surface_area.txt\n",
      "-rw-rw----    1 ftp      ftp          2241 Apr 01  2021 liver.iris.volume.txt\n",
      "None\n"
     ]
    }
   ],
   "source": [
    "# Getting password for the FTP\n",
    "\n",
    "import getpass\n",
    "password = getpass.getpass(prompt='Password for the FTP, please: ')\n",
    "try:\n",
    "    list_ftp()\n",
    "except error_perm:\n",
    "    print('Password is incorrect! Please, re-run this cell and try again.')"
   ]
  },
  {
   "cell_type": "markdown",
   "metadata": {},
   "source": [
    "## Adding meta-information to the database"
   ]
  },
  {
   "cell_type": "code",
   "execution_count": 136,
   "metadata": {},
   "outputs": [],
   "source": [
    "scan_201811 = pd.read_excel('~/samplelist_complete.xlsx', sheet_name=4)\n",
    "scan_201905 = pd.read_excel('~/samplelist_complete.xlsx', sheet_name=3)\n",
    "scan_201912 = pd.read_excel('~/samplelist_complete.xlsx', sheet_name=2)\n",
    "scan_202012 = pd.read_excel('~/samplelist_complete.xlsx', sheet_name=1)\n",
    "\n",
    "all_scans = pd.concat([scan_201811, scan_201905, scan_201912, scan_202012])\n",
    "all_scans = all_scans[all_scans['Scanned stained'].isin(['yes', 'Yes', 'Scanned', 'scanned'])]\n",
    "all_scans = all_scans[['S.No', 'Line', 'Gen.', 'Sex', 'DOB', 'DOS']]\n",
    "all_scans['age'] = (all_scans['DOS'] - pd.to_datetime(all_scans['DOB'], errors='coerce')).dt.days\n",
    "all_scans = all_scans.drop(['DOS', 'DOB'], axis=1)\n",
    "\n",
    "all_scans = all_scans.rename(columns={'S.No': 'id', 'Line': 'line', 'Gen.': 'generation', 'Sex': 'sex', 'age':'age'})\n",
    "all_scans['id'] = pd.to_numeric(all_scans['id'], errors='coerce')\n",
    "all_scans = all_scans[~all_scans.isna()['id']]\n",
    "all_scans['id'] = all_scans['id'].astype(int).astype(str)"
   ]
  },
  {
   "cell_type": "code",
   "execution_count": 144,
   "metadata": {},
   "outputs": [],
   "source": [
    "set(select_fields(db.all(), 'id')['id']) - set(all_scans.id)\n",
    "\n",
    "set_of_reliable_ids = set(select_fields(db.all(), 'id')['id']) & set(all_scans.id)"
   ]
  },
  {
   "cell_type": "code",
   "execution_count": 145,
   "metadata": {},
   "outputs": [
    {
     "data": {
      "application/vnd.jupyter.widget-view+json": {
       "model_id": "600931e861c640a9b8d676fe8dc22b1f",
       "version_major": 2,
       "version_minor": 0
      },
      "text/plain": [
       "HBox(children=(IntProgress(value=0, max=247), HTML(value='')))"
      ]
     },
     "metadata": {},
     "output_type": "display_data"
    },
    {
     "name": "stdout",
     "output_type": "stream",
     "text": [
      "\n"
     ]
    }
   ],
   "source": [
    "for id in tqdm(set_of_reliable_ids):\n",
    "    meta = all_scans[all_scans['id'] == id].iloc[0].to_dict()\n",
    "    db_record = db.search(Query().id == id)[0]\n",
    "    db_record.update(meta)\n",
    "    db.update(db_record, Query().id == id)"
   ]
  },
  {
   "cell_type": "markdown",
   "metadata": {},
   "source": [
    "## Generating the dataframes with all measurements available to be saved"
   ]
  },
  {
   "cell_type": "code",
   "execution_count": 10,
   "metadata": {
    "scrolled": true
   },
   "outputs": [
    {
     "data": {
      "text/plain": [
       "{'eyes.iris.color_average',\n",
       " 'eyes.iris.color_std',\n",
       " 'eyes.iris.distance_between_centers',\n",
       " 'eyes.iris.eccentricity_meridional',\n",
       " 'eyes.iris.surface_area',\n",
       " 'eyes.iris.volume',\n",
       " 'eyes.lens.color_average',\n",
       " 'eyes.lens.color_std',\n",
       " 'eyes.lens.distance_between_centers',\n",
       " 'eyes.lens.radius_axial',\n",
       " 'eyes.lens.surface_area',\n",
       " 'eyes.lens.thickness_axial',\n",
       " 'eyes.lens.volume',\n",
       " 'eyes.muscles.color_average',\n",
       " 'eyes.muscles.color_std',\n",
       " 'eyes.muscles.distance_between_centers',\n",
       " 'eyes.muscles.eccentricity_meridional',\n",
       " 'eyes.muscles.surface_area',\n",
       " 'eyes.muscles.volume',\n",
       " 'eyes.nerve.color_average',\n",
       " 'eyes.nerve.color_std',\n",
       " 'eyes.nerve.surface_area',\n",
       " 'eyes.nerve.volume',\n",
       " 'eyes.retina.color_average',\n",
       " 'eyes.retina.color_std',\n",
       " 'eyes.retina.distance_between_centers',\n",
       " 'eyes.retina.eccentricity_meridional',\n",
       " 'eyes.retina.surface_area',\n",
       " 'eyes.retina.volume'}"
      ]
     },
     "execution_count": 10,
     "metadata": {},
     "output_type": "execute_result"
    }
   ],
   "source": [
    "possible_fields = set([i for rec in iface.as_table([]) for i in rec.keys()]) - {'line', 'id', 'sex', 'age', 'generation'}\n",
    "possible_fields"
   ]
  },
  {
   "cell_type": "code",
   "execution_count": 150,
   "metadata": {},
   "outputs": [
    {
     "data": {
      "application/vnd.jupyter.widget-view+json": {
       "model_id": "5e8b45d8a45a4987b4e263dfe24a5926",
       "version_major": 2,
       "version_minor": 0
      },
      "text/plain": [
       "HBox(children=(IntProgress(value=0, max=1), HTML(value='')))"
      ]
     },
     "metadata": {},
     "output_type": "display_data"
    },
    {
     "data": {
      "application/vnd.jupyter.widget-view+json": {
       "model_id": "",
       "version_major": 2,
       "version_minor": 0
      },
      "text/plain": [
       "HBox(children=(IntProgress(value=0, max=5), HTML(value='')))"
      ]
     },
     "metadata": {},
     "output_type": "display_data"
    },
    {
     "data": {
      "application/vnd.jupyter.widget-view+json": {
       "model_id": "",
       "version_major": 2,
       "version_minor": 0
      },
      "text/plain": [
       "HBox(children=(IntProgress(value=0, max=6), HTML(value='')))"
      ]
     },
     "metadata": {},
     "output_type": "display_data"
    },
    {
     "data": {
      "application/vnd.jupyter.widget-view+json": {
       "model_id": "",
       "version_major": 2,
       "version_minor": 0
      },
      "text/plain": [
       "HBox(children=(IntProgress(value=0, max=7), HTML(value='')))"
      ]
     },
     "metadata": {},
     "output_type": "display_data"
    },
    {
     "data": {
      "application/vnd.jupyter.widget-view+json": {
       "model_id": "",
       "version_major": 2,
       "version_minor": 0
      },
      "text/plain": [
       "HBox(children=(IntProgress(value=0, max=6), HTML(value='')))"
      ]
     },
     "metadata": {},
     "output_type": "display_data"
    },
    {
     "data": {
      "application/vnd.jupyter.widget-view+json": {
       "model_id": "",
       "version_major": 2,
       "version_minor": 0
      },
      "text/plain": [
       "HBox(children=(IntProgress(value=0, max=4), HTML(value='')))"
      ]
     },
     "metadata": {},
     "output_type": "display_data"
    },
    {
     "data": {
      "application/vnd.jupyter.widget-view+json": {
       "model_id": "",
       "version_major": 2,
       "version_minor": 0
      },
      "text/plain": [
       "HBox(children=(IntProgress(value=0, max=6), HTML(value='')))"
      ]
     },
     "metadata": {},
     "output_type": "display_data"
    },
    {
     "name": "stdout",
     "output_type": "stream",
     "text": [
      "\n"
     ]
    }
   ],
   "source": [
    "## generating and uploading all datasets\n",
    "\n",
    "for measurement_key in tqdm(possible_fields):\n",
    "    df = get_df(iface, measurement_key)\n",
    "    save_df_to_ftp(df, measurement_key)"
   ]
  },
  {
   "cell_type": "code",
   "execution_count": 11,
   "metadata": {},
   "outputs": [
    {
     "data": {
      "application/vnd.jupyter.widget-view+json": {
       "model_id": "6978b5a18fa24c6889dd233b521a6dd4",
       "version_major": 2,
       "version_minor": 0
      },
      "text/plain": [
       "HBox(children=(IntProgress(value=0, max=29), HTML(value='')))"
      ]
     },
     "metadata": {},
     "output_type": "display_data"
    },
    {
     "name": "stdout",
     "output_type": "stream",
     "text": [
      "eyes.lens.volume (390, 2)\n",
      "eyes.muscles.color_std (376, 2)\n",
      "eyes.nerve.color_average (138, 2)\n",
      "eyes.iris.color_average (361, 2)\n",
      "eyes.iris.color_std (361, 2)\n",
      "eyes.lens.distance_between_centers (195, 2)\n",
      "eyes.lens.color_std (390, 2)\n",
      "eyes.nerve.volume (195, 2)\n",
      "eyes.retina.volume (390, 2)\n",
      "eyes.iris.distance_between_centers (172, 2)\n",
      "eyes.muscles.volume (390, 2)\n",
      "eyes.iris.surface_area (390, 2)\n",
      "eyes.retina.color_average (386, 2)\n",
      "eyes.iris.eccentricity_meridional (290, 2)\n",
      "eyes.lens.color_average (390, 2)\n",
      "eyes.lens.surface_area (390, 2)\n",
      "eyes.lens.thickness_axial (2064, 2)\n",
      "eyes.retina.distance_between_centers (191, 2)\n",
      "eyes.retina.surface_area (390, 2)\n",
      "eyes.retina.eccentricity_meridional (382, 2)\n",
      "eyes.muscles.color_average (376, 2)\n",
      "eyes.iris.volume (390, 2)\n",
      "eyes.nerve.color_std (138, 2)\n",
      "eyes.lens.radius_axial (2280, 2)\n",
      "eyes.muscles.eccentricity_meridional (266, 2)\n",
      "eyes.retina.color_std (386, 2)\n",
      "eyes.muscles.distance_between_centers (187, 2)\n",
      "eyes.muscles.surface_area (390, 2)\n",
      "eyes.nerve.surface_area (195, 2)\n",
      "\n"
     ]
    }
   ],
   "source": [
    "## generating and uploading all datasets\n",
    "\n",
    "for measurement_key in tqdm(possible_fields):\n",
    "    df = get_df(iface, measurement_key)\n",
    "    print(measurement_key, df.dropna(how='any').shape)"
   ]
  }
 ],
 "metadata": {
  "kernelspec": {
   "display_name": "Python 3",
   "language": "python",
   "name": "python3"
  },
  "language_info": {
   "codemirror_mode": {
    "name": "ipython",
    "version": 3
   },
   "file_extension": ".py",
   "mimetype": "text/x-python",
   "name": "python",
   "nbconvert_exporter": "python",
   "pygments_lexer": "ipython3",
   "version": "3.7.3"
  }
 },
 "nbformat": 4,
 "nbformat_minor": 4
}
