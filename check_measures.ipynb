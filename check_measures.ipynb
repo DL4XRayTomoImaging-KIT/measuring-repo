{
 "cells": [
  {
   "cell_type": "code",
   "execution_count": 1,
   "id": "8939dc79",
   "metadata": {},
   "outputs": [],
   "source": [
    "import os\n",
    "import yaml\n",
    "import tifffile\n",
    "import numpy as np\n",
    "\n",
    "from src import measures\n",
    "from src.cleaner import DoubleStepCleaner"
   ]
  },
  {
   "cell_type": "code",
   "execution_count": 2,
   "id": "5bf1b326",
   "metadata": {},
   "outputs": [],
   "source": [
    "main_organ = 'brain'\n",
    "fpath = \"/mnt/HD-LSDF/Medaka/201912_beamtime_medaka/\"\n",
    "cfg_path = f\"/home/ws/er5241/Repos/measuring-repo/measurement_configs/measurement/{main_organ}.yaml\"\n",
    "db_path = \"/home/ws/er5241/Repos/measuring-repo/artifacts/debug.json\"\n",
    "\n",
    "with open(cfg_path, \"r\") as stream:\n",
    "    configs = yaml.safe_load(stream)"
   ]
  },
  {
   "cell_type": "code",
   "execution_count": 3,
   "id": "dce3643e",
   "metadata": {},
   "outputs": [
    {
     "name": "stdout",
     "output_type": "stream",
     "text": [
      "Medaka_1105_20-1\n"
     ]
    }
   ],
   "source": [
    "fls = os.listdir(fpath)\n",
    "id = np.random.choice(fls)\n",
    "\n",
    "id = 'Medaka_1105_20-1'\n",
    "img_path = fpath + id + \"/scaled_0.5_8bit_cropped_slices.tif\"\n",
    "msk_path = fpath + id + f\"/{main_organ}_scaled_0.5_8bit_cropped_slices.tif\"\n",
    "\n",
    "print(id)"
   ]
  },
  {
   "cell_type": "code",
   "execution_count": 4,
   "id": "0cfce476",
   "metadata": {},
   "outputs": [],
   "source": [
    "img = tifffile.imread(img_path)\n",
    "msk = tifffile.imread(msk_path)"
   ]
  },
  {
   "cell_type": "code",
   "execution_count": 5,
   "id": "d5f53915",
   "metadata": {},
   "outputs": [],
   "source": [
    "cleaning_config = configs['cleaning']\n",
    "measuring_config = configs['measures']"
   ]
  },
  {
   "cell_type": "code",
   "execution_count": 6,
   "id": "d55b685c",
   "metadata": {},
   "outputs": [],
   "source": [
    "cleaner = DoubleStepCleaner(**cleaning_config)\n",
    "\n",
    "msk_clean, roi = cleaner(msk)\n",
    "img_clean = img[roi]"
   ]
  },
  {
   "cell_type": "code",
   "execution_count": 7,
   "id": "76e3a415",
   "metadata": {},
   "outputs": [],
   "source": [
    "measure_funcs = ['volume', 'volume_filled',\n",
    "                 'surface_area',\n",
    "                  'color_mean', 'color_mean_dilated', 'color_mean_eroded',\n",
    "                  'color_median', 'color_median_dilated', 'color_median_eroded',\n",
    "                  'color_std', 'color_std_dilated', 'color_std_eroded',\n",
    "                  'color_perc_99', 'color_perc_99_dilated', 'color_perc_99_eroded',\n",
    "                  'color_perc_1', 'color_perc_1_dilated', 'color_perc_1_eroded',\n",
    "                  'convex_volume',\n",
    "                  'radius_minimal_sphere', 'radius_maximal_sphere'\n",
    "                 ]"
   ]
  },
  {
   "cell_type": "code",
   "execution_count": 8,
   "id": "45003d12",
   "metadata": {},
   "outputs": [
    {
     "name": "stdout",
     "output_type": "stream",
     "text": [
      "volume [263101]\n",
      "volume_filled [263104]\n",
      "surface_area [54135]\n",
      "color_mean [120.98080204940308]\n",
      "color_mean_dilated [78.94860603270445]\n",
      "color_mean_eroded [123.44169692898676]\n",
      "color_median [121.0]\n",
      "color_median_dilated [69.0]\n",
      "color_median_eroded [124.0]\n",
      "color_std [13.041842135983163]\n",
      "color_std_dilated [33.60336856146502]\n",
      "color_std_eroded [9.951016508575512]\n",
      "color_perc_99 [150.0]\n",
      "color_perc_99_dilated [197.0]\n",
      "color_perc_99_eroded [144.0]\n",
      "color_perc_1 [87.0]\n",
      "color_perc_1_dilated [35.0]\n",
      "color_perc_1_eroded [96.0]\n",
      "convex_volume [396452.33333333326]\n",
      "radius_minimal_sphere [63.735785052904575]\n",
      "radius_maximal_sphere [5.7626000891584255]\n"
     ]
    }
   ],
   "source": [
    "lbl = measuring_config[5]\n",
    "label_mask = (msk_clean == lbl['id'])\n",
    "\n",
    "for measure in measure_funcs:\n",
    "  mf = getattr(measures, measure)\n",
    "  cc = centers[lbl['center']] if ('center' in lbl.keys()) else None\n",
    "  measurement = mf(label_mask, img_clean, cc)\n",
    "  print(measure, measurement)"
   ]
  }
 ],
 "metadata": {
  "kernelspec": {
   "display_name": "Python 3 (ipykernel)",
   "language": "python",
   "name": "python3"
  },
  "language_info": {
   "codemirror_mode": {
    "name": "ipython",
    "version": 3
   },
   "file_extension": ".py",
   "mimetype": "text/x-python",
   "name": "python",
   "nbconvert_exporter": "python",
   "pygments_lexer": "ipython3",
   "version": "3.8.5"
  }
 },
 "nbformat": 4,
 "nbformat_minor": 5
}
