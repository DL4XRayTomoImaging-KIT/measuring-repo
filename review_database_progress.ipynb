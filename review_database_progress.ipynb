{
 "cells": [
  {
   "cell_type": "code",
   "execution_count": 1,
   "metadata": {},
   "outputs": [],
   "source": [
    "from measure import get_database_interface\n",
    "import yaml"
   ]
  },
  {
   "cell_type": "code",
   "execution_count": 2,
   "metadata": {},
   "outputs": [],
   "source": [
    "import pandas as pd\n",
    "from ftplib import *\n",
    "from io import StringIO\n",
    "import io"
   ]
  },
  {
   "cell_type": "code",
   "execution_count": 3,
   "metadata": {},
   "outputs": [],
   "source": [
    "from tqdm.auto import tqdm"
   ]
  },
  {
   "cell_type": "code",
   "execution_count": 4,
   "metadata": {},
   "outputs": [],
   "source": [
    "def get_df(iface, par_name):\n",
    "    # create dataframe from the database\n",
    "        \n",
    "    selection = iface.as_table([par_name, 'line', 'id', 'sex', 'age', 'generation'])\n",
    "    df = pd.DataFrame(selection)\n",
    "    df = df.loc[~df[par_name].isna()]\n",
    "    df = df.explode(par_name).explode(par_name).explode(par_name)\n",
    "    df = df.rename(columns={o:n for o,n in zip([par_name, 'line', 'id', 'sex', 'age', 'generation'], \n",
    "                                               ['measurement', 'line_id', 'fish_id', 'fish_sex', 'fish_age', 'fish_generation'])})\n",
    "    return df"
   ]
  },
  {
   "cell_type": "code",
   "execution_count": 5,
   "metadata": {},
   "outputs": [],
   "source": [
    "with open('measurement_configs/processing/medaka_mongo.yaml') as f:\n",
    "    iface = get_database_interface(yaml.safe_load(f)['db'])"
   ]
  },
  {
   "cell_type": "markdown",
   "metadata": {},
   "source": [
    "## Adding meta-information to the database\n",
    "\n",
    "**NB!** be sure to understand what you are doing good before making active and executing the last cell here"
   ]
  },
  {
   "cell_type": "code",
   "execution_count": 6,
   "metadata": {},
   "outputs": [],
   "source": [
    "scan_201811 = pd.read_excel('samplelist_complete.xlsx', sheet_name=4)\n",
    "scan_201905 = pd.read_excel('samplelist_complete.xlsx', sheet_name=3)\n",
    "scan_201912 = pd.read_excel('samplelist_complete.xlsx', sheet_name=2)\n",
    "scan_202012 = pd.read_excel('samplelist_complete.xlsx', sheet_name=1)\n",
    "\n",
    "all_scans = pd.concat([scan_201811, scan_201905, scan_201912, scan_202012])\n",
    "all_scans = all_scans[all_scans['Scanned stained'].isin(['yes', 'Yes', 'Scanned', 'scanned'])]\n",
    "all_scans = all_scans[['S.No', 'Line', 'Gen.', 'Sex', 'DOB', 'DOS']]\n",
    "all_scans['age'] = (all_scans['DOS'] - pd.to_datetime(all_scans['DOB'], errors='coerce')).dt.days\n",
    "all_scans = all_scans.drop(['DOS', 'DOB'], axis=1)\n",
    "\n",
    "all_scans = all_scans.rename(columns={'S.No': 'id', 'Line': 'line', 'Gen.': 'generation', 'Sex': 'sex', 'age':'age'})\n",
    "all_scans['id'] = pd.to_numeric(all_scans['id'], errors='coerce')\n",
    "all_scans = all_scans[~all_scans.isna()['id']]\n",
    "all_scans['id'] = all_scans['id'].astype(int).astype(str)"
   ]
  },
  {
   "cell_type": "code",
   "execution_count": 7,
   "metadata": {},
   "outputs": [],
   "source": [
    "set_of_reliable_ids = set([i['id'] for i in iface.as_table([])]) & set(all_scans.id)"
   ]
  },
  {
   "cell_type": "raw",
   "metadata": {},
   "source": [
    "for id in tqdm(set_of_reliable_ids):\n",
    "    iface.update_sample_record(all_scans[all_scans['id'] == id].iloc[0].to_dict())"
   ]
  },
  {
   "cell_type": "markdown",
   "metadata": {},
   "source": [
    "## Generating the dataframes with all measurements available to be saved"
   ]
  },
  {
   "cell_type": "code",
   "execution_count": 12,
   "metadata": {
    "scrolled": false
   },
   "outputs": [],
   "source": [
    "from collections import Counter\n",
    "from itertools import chain\n",
    "\n",
    "def _transform_db(in_db, measurement_id):\n",
    "    new_db = in_db[['line', 'id', 'sex', 'age', 'generation', measurement_id]]\n",
    "    new_db = new_db.rename({o:n for o,n in zip([measurement_id, 'line', 'id', 'sex', 'age', 'generation'], \n",
    "                                               ['measurement', 'line_id', 'fish_id', 'fish_sex', 'fish_age', 'fish_generation'])}, axis=1)\n",
    "    return new_db\n",
    "\n",
    "def _db_statistics(possible_fields, attempted, whole_db):\n",
    "    measured = 0\n",
    "    samples_in_db = []\n",
    "    for measurement_key in tqdm(possible_fields):\n",
    "        df = _transform_db(whole_db, measurement_key)\n",
    "        samples_id_current = list(df.dropna(how='any', subset=['measurement']).fish_id.unique())\n",
    "    #     print(measurement_key, len(samples_id_current))\n",
    "        measured += df.dropna(how='any', subset=['measurement']).fish_id.nunique()\n",
    "        samples_in_db.append(samples_id_current)\n",
    "\n",
    "    print('on average samples measured per each metric: ', measured / len(possible_fields))\n",
    "    samples_with_that_much_measurements = Counter(Counter(chain.from_iterable(samples_in_db)).values())\n",
    "\n",
    "    samples_in_db = len(set.union(*[set(i) for i in samples_in_db]))\n",
    "    print('in db', samples_in_db)\n",
    "\n",
    "    mc_0 = attempted - samples_in_db\n",
    "    mc_20 = sum([v for k,v in samples_with_that_much_measurements.items() if k < len(possible_fields)*0.2])\n",
    "    mc_20_80 = sum([v for k,v in samples_with_that_much_measurements.items() if ((k > len(possible_fields)*0.2) \n",
    "                                                                                   and\n",
    "                                                                                   (k < len(possible_fields)*0.8))])\n",
    "    mc_80 = sum([v for k,v in samples_with_that_much_measurements.items() if ((k > len(possible_fields)*0.8) and k < len(possible_fields))])\n",
    "    mc_100 = sum([v for k,v in samples_with_that_much_measurements.items() if k == len(possible_fields)])\n",
    "\n",
    "    print('metrics coverage of 0/20/20-40/80/100:', f'{mc_0}/{mc_20}/{mc_20_80}/{mc_80}/{mc_100}')\n",
    "\n",
    "import os\n",
    "from glob import glob\n",
    "import re\n",
    "\n",
    "def _experiment_organ_statistics(experiment_addr, organ, scan_metainformation):\n",
    "    addrs = glob(os.path.join(experiment_addr, 'Medaka_*_*'))\n",
    "    ids = [re.findall('Medaka_(\\d+)_', i)[0] for i in addrs]\n",
    "    lines = [re.findall('Medaka_\\d+_(.+)', i)[0] for i in addrs]\n",
    "    \n",
    "    attempted = len(addrs)\n",
    "    print('experiment size: ', attempted)\n",
    "    \n",
    "    whole_db = pd.DataFrame(iface.as_table([]))\n",
    "    db_experiment = whole_db[whole_db.id.isin(ids)]\n",
    "    \n",
    "    fieldset = (set([i for rec in iface.as_table([]) for i in rec.keys() if i.startswith(organ+'.')]) \n",
    "                   - {'line', 'id', 'sex', 'age', 'generation'})\n",
    "    \n",
    "    _db_statistics(fieldset, attempted, db_experiment)\n",
    "    \n",
    "    print('Failures count per metric:')\n",
    "    print(db_experiment[list(fieldset)].isna().sum().sort_values(ascending=False))\n",
    "    \n",
    "    count_ids_db = db_experiment.dropna(how='all', subset=fieldset).groupby('line').id.count()\n",
    "    count_ids_meta = scan_metainformation.groupby('Line')['S.No'].count()\n",
    "    \n",
    "    line_errors = pd.DataFrame({'failure_ratio': 1 - count_ids_db / count_ids_meta,\n",
    "                                'failure_count': count_ids_meta - count_ids_db})\n",
    "    \n",
    "    print('Failure counts and ratios per fish line:')\n",
    "    print(line_errors.sort_values('failure_ratio', ascending=False))"
   ]
  },
  {
   "cell_type": "code",
   "execution_count": 13,
   "metadata": {},
   "outputs": [
    {
     "data": {
      "application/vnd.jupyter.widget-view+json": {
       "model_id": "345b24acd3df476ab8a86bc134fd54ed",
       "version_major": 2,
       "version_minor": 0
      },
      "text/plain": [
       "  0%|          | 0/108 [00:00<?, ?it/s]"
      ]
     },
     "metadata": {},
     "output_type": "display_data"
    },
    {
     "name": "stdout",
     "output_type": "stream",
     "text": [
      "on average samples measured per each metric:  333.6111111111111\n",
      "in db 538\n",
      "metrics coverage of 0/20/20-40/80/100: 34/43/298/99/98\n"
     ]
    }
   ],
   "source": [
    "# overall\n",
    "attempted = 340+232\n",
    "possible_fields = (set([i for rec in iface.as_table([]) for i in rec.keys()]) \n",
    "                   - {'line', 'id', 'sex', 'age', 'generation'})\n",
    "whole_db = pd.DataFrame(iface.as_table([]))\n",
    "_db_statistics(possible_fields, attempted, whole_db)"
   ]
  },
  {
   "cell_type": "code",
   "execution_count": 14,
   "metadata": {},
   "outputs": [],
   "source": [
    "addr_2018_11 = '/mnt/LSDF/projects/code-vita/Medaka/2018_11'"
   ]
  },
  {
   "cell_type": "code",
   "execution_count": 15,
   "metadata": {},
   "outputs": [
    {
     "name": "stdout",
     "output_type": "stream",
     "text": [
      "experiment size:  335\n"
     ]
    },
    {
     "data": {
      "application/vnd.jupyter.widget-view+json": {
       "model_id": "2910020cf4ff4407953a699de6261d1d",
       "version_major": 2,
       "version_minor": 0
      },
      "text/plain": [
       "  0%|          | 0/29 [00:00<?, ?it/s]"
      ]
     },
     "metadata": {},
     "output_type": "display_data"
    },
    {
     "name": "stdout",
     "output_type": "stream",
     "text": [
      "on average samples measured per each metric:  316.37931034482756\n",
      "in db 324\n",
      "metrics coverage of 0/20/20-40/80/100: 11/0/0/135/189\n",
      "Failures count per metric:\n",
      "eyes.muscles.eccentricity_meridional     100\n",
      "eyes.iris.eccentricity_meridional         83\n",
      "eyes.lens.thickness_axial                 32\n",
      "eyes.lens.radius_axial                     6\n",
      "eyes.retina.eccentricity_meridional        5\n",
      "eyes.muscles.distance_between_centers      1\n",
      "eyes.nerve.volume                          1\n",
      "eyes.lens.distance_between_centers         1\n",
      "eyes.retina.color_average                  1\n",
      "eyes.lens.surface_area                     1\n",
      "eyes.retina.volume                         1\n",
      "eyes.lens.volume                           1\n",
      "eyes.lens.color_average                    1\n",
      "eyes.lens.color_std                        1\n",
      "eyes.muscles.color_average                 1\n",
      "eyes.retina.color_std                      1\n",
      "eyes.iris.color_average                    1\n",
      "eyes.nerve.color_average                   1\n",
      "eyes.iris.surface_area                     1\n",
      "eyes.iris.distance_between_centers         1\n",
      "eyes.muscles.color_std                     1\n",
      "eyes.muscles.surface_area                  1\n",
      "eyes.nerve.color_std                       1\n",
      "eyes.nerve.surface_area                    1\n",
      "eyes.retina.surface_area                   1\n",
      "eyes.retina.distance_between_centers       1\n",
      "eyes.iris.color_std                        1\n",
      "eyes.iris.volume                           1\n",
      "eyes.muscles.volume                        1\n",
      "dtype: int64\n",
      "Failure counts and ratios per fish line:\n",
      "       failure_ratio  failure_count\n",
      "11-1        0.437500            7.0\n",
      "5-1         0.428571            6.0\n",
      "29-1        0.375000            6.0\n",
      "21-2        0.375000            6.0\n",
      "72-1        0.363636            4.0\n",
      "25-1        0.333333            1.0\n",
      "72-2        0.294118            5.0\n",
      "80-2        0.294118            5.0\n",
      "80-1        0.277778            5.0\n",
      "33-1        0.272727            3.0\n",
      "58-2        0.263158            5.0\n",
      "50-2        0.250000            4.0\n",
      "69-1        0.235294            4.0\n",
      "89-1N       0.214286            3.0\n",
      "30-1        0.200000            2.0\n",
      "137-4       0.200000            1.0\n",
      "75-1        0.200000            1.0\n",
      "49-1        0.157895            3.0\n",
      "59-2        0.153846            2.0\n",
      "55-2        0.142857            1.0\n",
      "Ho5         0.017241            1.0\n",
      "123-2       0.000000            0.0\n",
      "39-1        0.000000            0.0\n",
      "32-2        0.000000            0.0\n",
      "61-1        0.000000            0.0\n",
      "68-1        0.000000            0.0\n",
      "23-1        0.000000            0.0\n",
      "18-2        0.000000            0.0\n",
      "14-1        0.000000            0.0\n",
      "135-1       0.000000            0.0\n",
      "134-1       0.000000            0.0\n",
      "133-2       0.000000            0.0\n",
      "131-4       0.000000            0.0\n",
      "39-2        0.000000            0.0\n",
      "iCab             NaN            NaN\n"
     ]
    }
   ],
   "source": [
    "_experiment_organ_statistics(addr_2018_11, 'eyes', scan_201811)"
   ]
  },
  {
   "cell_type": "code",
   "execution_count": 59,
   "metadata": {},
   "outputs": [
    {
     "name": "stdout",
     "output_type": "stream",
     "text": [
      "experiment size:  335\n"
     ]
    },
    {
     "data": {
      "application/vnd.jupyter.widget-view+json": {
       "model_id": "8a58f350d4f44b85930d44fa1cf82d0f",
       "version_major": 2,
       "version_minor": 0
      },
      "text/plain": [
       "  0%|          | 0/49 [00:00<?, ?it/s]"
      ]
     },
     "metadata": {},
     "output_type": "display_data"
    },
    {
     "name": "stdout",
     "output_type": "stream",
     "text": [
      "on average samples measured per each metric:  198.75510204081633\n",
      "in db 205\n",
      "metrics coverage of 0/20/20-40/80/100: 130/0/6/78/121\n",
      "Failures count per metric:\n",
      "brain.optical_nerves.eccentricity_equatorial     200\n",
      "brain.optical_nerves.eccentricity_meridional     200\n",
      "brain.forebrain.eccentricity_meridional          144\n",
      "brain.forebrain.eccentricity_equatorial          144\n",
      "brain.cerebellum.eccentricity_meridional         139\n",
      "brain.cerebellum.eccentricity_equatorial         139\n",
      "brain.hindbrain.eccentricity_equatorial          135\n",
      "brain.hindbrain.eccentricity_meridional          135\n",
      "brain.midbrain.eccentricity_meridional           130\n",
      "brain.midbrain.eccentricity_equatorial           130\n",
      "brain.optical_tectum.eccentricity_equatorial     125\n",
      "brain.optical_tectum.eccentricity_meridional     125\n",
      "brain.cerebellum.surface_area                    120\n",
      "brain.torus_longuthing.color_average             120\n",
      "brain.midbrain.volume                            120\n",
      "brain.epyphysis.color_average                    120\n",
      "brain.forebrain.color_std                        120\n",
      "brain.forebrain.surface_area                     120\n",
      "brain.hypophysis.surface_area                    120\n",
      "brain.optical_tectum.surface_area                120\n",
      "brain.epyphysis.color_std                        120\n",
      "brain.hindbrain.volume                           120\n",
      "brain.torus_longuthing.color_std                 120\n",
      "brain.cerebellum.color_average                   120\n",
      "brain.epyphysis.volume                           120\n",
      "brain.torus_longuthing.surface_area              120\n",
      "brain.hypophysis.color_std                       120\n",
      "brain.forebrain.volume                           120\n",
      "brain.optical_nerves.color_average               120\n",
      "brain.midbrain.color_std                         120\n",
      "brain.optical_tectum.color_average               120\n",
      "brain.midbrain.surface_area                      120\n",
      "brain.optical_tectum.color_std                   120\n",
      "brain.optical_nerves.surface_area                120\n",
      "brain.hindbrain.color_std                        120\n",
      "brain.forebrain.color_average                    120\n",
      "brain.hindbrain.surface_area                     120\n",
      "brain.hypophysis.color_average                   120\n",
      "brain.optical_tectum.volume                      120\n",
      "brain.midbrain.color_average                     120\n",
      "brain.hypophysis.volume                          120\n",
      "brain.hindbrain.color_average                    120\n",
      "brain.optical_nerves.volume                      120\n",
      "brain.torus_longuthing.volume                    120\n",
      "brain.optical_nerves.color_std                   120\n",
      "brain.cerebellum.color_std                       120\n",
      "brain.cerebellum.volume                          120\n",
      "brain.epyphysis.surface_area                     120\n",
      "brain.optical_tectum.distance_between_centers    120\n",
      "dtype: int64\n",
      "Failure counts and ratios per fish line:\n",
      "       failure_ratio  failure_count\n",
      "11-1        0.812500           13.0\n",
      "32-2        0.800000            4.0\n",
      "137-4       0.800000            4.0\n",
      "134-1       0.750000            3.0\n",
      "25-1        0.666667            2.0\n",
      "80-2        0.647059           11.0\n",
      "21-2        0.625000           10.0\n",
      "Ho5         0.620690           36.0\n",
      "80-1        0.611111           11.0\n",
      "14-1        0.600000            3.0\n",
      "72-1        0.545455            6.0\n",
      "58-2        0.526316           10.0\n",
      "135-1       0.500000            3.0\n",
      "5-1         0.500000            7.0\n",
      "33-1        0.454545            5.0\n",
      "50-2        0.437500            7.0\n",
      "29-1        0.437500            7.0\n",
      "59-2        0.384615            5.0\n",
      "49-1        0.368421            7.0\n",
      "39-2        0.363636            4.0\n",
      "89-1N       0.357143            5.0\n",
      "69-1        0.352941            6.0\n",
      "72-2        0.352941            6.0\n",
      "123-2       0.333333            2.0\n",
      "30-1        0.300000            3.0\n",
      "55-2        0.285714            2.0\n",
      "39-1        0.250000            1.0\n",
      "18-2        0.250000            2.0\n",
      "23-1        0.222222            2.0\n",
      "75-1        0.200000            1.0\n",
      "68-1        0.142857            1.0\n",
      "61-1        0.142857            1.0\n",
      "133-2       0.000000            0.0\n",
      "131-4            NaN            NaN\n",
      "iCab             NaN            NaN\n"
     ]
    }
   ],
   "source": [
    "_experiment_organ_statistics(addr_2018_11, 'brain', scan_201811)"
   ]
  }
 ],
 "metadata": {
  "kernelspec": {
   "display_name": "Python 3",
   "language": "python",
   "name": "python3"
  },
  "language_info": {
   "codemirror_mode": {
    "name": "ipython",
    "version": 3
   },
   "file_extension": ".py",
   "mimetype": "text/x-python",
   "name": "python",
   "nbconvert_exporter": "python",
   "pygments_lexer": "ipython3",
   "version": "3.7.3"
  }
 },
 "nbformat": 4,
 "nbformat_minor": 4
}
