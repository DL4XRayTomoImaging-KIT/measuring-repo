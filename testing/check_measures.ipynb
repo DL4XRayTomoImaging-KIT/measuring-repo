{
 "cells": [
  {
   "cell_type": "code",
   "execution_count": 26,
   "id": "8939dc79",
   "metadata": {},
   "outputs": [],
   "source": [
    "import os\n",
    "import yaml\n",
    "import tifffile\n",
    "import numpy as np\n",
    "\n",
    "import sys, os\n",
    "sys.path.append(os.path.abspath(os.path.join('..')))\n",
    "from src import measures\n",
    "from src.separator import Separator\n",
    "from src.cleaner import DoubleStepCleaner"
   ]
  },
  {
   "cell_type": "code",
   "execution_count": 27,
   "id": "5bf1b326",
   "metadata": {},
   "outputs": [],
   "source": [
    "main_organ = 'brain'\n",
    "fpath = \"/mnt/HD-LSDF/Medaka/201912_beamtime_medaka/\"\n",
    "cfg_path = f\"/home/ws/er5241/Repos/measuring-repo/measurement_configs/measurement/{main_organ}.yaml\"\n",
    "db_path = \"/home/ws/er5241/Repos/measuring-repo/artifacts/debug.json\"\n",
    "\n",
    "with open(cfg_path, \"r\") as stream:\n",
    "    configs = yaml.safe_load(stream)\n",
    "\n",
    "cleaning_config = configs['cleaning']\n",
    "measuring_config = configs['measures']\n",
    "centering_config = configs.get('centering', [])"
   ]
  },
  {
   "cell_type": "code",
   "execution_count": 20,
   "id": "dce3643e",
   "metadata": {},
   "outputs": [
    {
     "name": "stdout",
     "output_type": "stream",
     "text": [
      "Medaka_1129_25-1\n"
     ]
    }
   ],
   "source": [
    "fls = os.listdir(fpath)\n",
    "id = np.random.choice(fls)\n",
    "\n",
    "id = 'Medaka_1129_25-1'\n",
    "img_path = fpath + id + \"/scaled_0.5_8bit_cropped_slices.tif\"\n",
    "msk_path = fpath + id + f\"/{main_organ}_scaled_0.5_8bit_cropped_slices.tif\"\n",
    "\n",
    "print(id)"
   ]
  },
  {
   "cell_type": "code",
   "execution_count": 21,
   "id": "0cfce476",
   "metadata": {},
   "outputs": [],
   "source": [
    "img = tifffile.imread(img_path)\n",
    "msk = tifffile.imread(msk_path)"
   ]
  },
  {
   "cell_type": "code",
   "execution_count": 22,
   "id": "d55b685c",
   "metadata": {},
   "outputs": [],
   "source": [
    "cleaner = DoubleStepCleaner(**cleaning_config)\n",
    "\n",
    "msk_clean, roi = cleaner(msk)\n",
    "img_clean = img[roi]"
   ]
  },
  {
   "cell_type": "code",
   "execution_count": 6,
   "id": "76e3a415",
   "metadata": {},
   "outputs": [],
   "source": [
    "measure_funcs = ['volume', 'volume_filled',\n",
    "                 'surface_area',\n",
    "                  'color_mean', 'color_mean_dilated', 'color_mean_eroded',\n",
    "                  'color_median', 'color_median_dilated', 'color_median_eroded',\n",
    "                  'color_std', 'color_std_dilated', 'color_std_eroded',\n",
    "                  'color_perc_99', 'color_perc_99_dilated', 'color_perc_99_eroded',\n",
    "                  'color_perc_1', 'color_perc_1_dilated', 'color_perc_1_eroded',\n",
    "                  'convex_volume',\n",
    "                  'radius_minimal_sphere', 'radius_maximal_sphere'\n",
    "                 ]"
   ]
  },
  {
   "cell_type": "code",
   "execution_count": 28,
   "id": "46e19964",
   "metadata": {},
   "outputs": [],
   "source": [
    "centers = {}\n",
    "for centering in centering_config:\n",
    "    centers[centering['name']] = Separator((msk_clean == centering['label_id']), centering['function'], centering['count'])"
   ]
  },
  {
   "cell_type": "code",
   "execution_count": 11,
   "id": "45003d12",
   "metadata": {},
   "outputs": [
    {
     "name": "stdout",
     "output_type": "stream",
     "text": [
      "6 cerebellum\n",
      "volume [192318]\n",
      "volume_filled [192382]\n",
      "surface_area [38829]\n",
      "color_mean [113.01147578489793]\n",
      "color_mean_dilated [80.52987253961393]\n",
      "color_mean_eroded [115.90690726223932]\n",
      "color_median [113.0]\n",
      "color_median_dilated [69.0]\n",
      "color_median_eroded [116.0]\n",
      "color_std [12.895040224084553]\n",
      "color_std_dilated [38.66538794965933]\n",
      "color_std_eroded [11.77636111776417]\n",
      "color_perc_99 [142.0]\n",
      "color_perc_99_dilated [208.0]\n",
      "color_perc_99_eroded [141.0]\n",
      "color_perc_1 [78.0]\n",
      "color_perc_1_dilated [33.0]\n",
      "color_perc_1_eroded [87.0]\n",
      "convex_volume [275944.0]\n",
      "radius_minimal_sphere [58.43346685863325]\n",
      "radius_maximal_sphere [4.771999999999991]\n"
     ]
    }
   ],
   "source": [
    "lbl = measuring_config[5]\n",
    "print(lbl['id'], lbl['name'])\n",
    "lbl_mask = (msk_clean == lbl['id'])\n",
    "\n",
    "for measure in measure_funcs:\n",
    "  mf = getattr(measures, measure)\n",
    "  cc = centers[lbl['center']] if ('center' in lbl.keys()) else None\n",
    "  measurement = mf(lbl_mask, img_clean, cc)\n",
    "  print(measure, measurement)"
   ]
  }
 ],
 "metadata": {
  "kernelspec": {
   "display_name": "Python 3 (ipykernel)",
   "language": "python",
   "name": "python3"
  },
  "language_info": {
   "codemirror_mode": {
    "name": "ipython",
    "version": 3
   },
   "file_extension": ".py",
   "mimetype": "text/x-python",
   "name": "python",
   "nbconvert_exporter": "python",
   "pygments_lexer": "ipython3",
   "version": "3.8.5"
  }
 },
 "nbformat": 4,
 "nbformat_minor": 5
}
