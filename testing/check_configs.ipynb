{
 "cells": [
  {
   "cell_type": "code",
   "execution_count": 1,
   "id": "820956b4",
   "metadata": {},
   "outputs": [],
   "source": [
    "import os\n",
    "import yaml\n",
    "import tifffile\n",
    "import numpy as np\n",
    "\n",
    "import sys, os\n",
    "sys.path.append(os.path.abspath(os.path.join('..')))\n",
    "from src import measures\n",
    "from src.separator import Separator\n",
    "from src.cleaner import DoubleStepCleaner"
   ]
  },
  {
   "cell_type": "code",
   "execution_count": 2,
   "id": "79414b1b",
   "metadata": {},
   "outputs": [],
   "source": [
    "fpath = \"/mnt/HD-LSDF/Medaka/201912_beamtime_medaka/\"\n",
    "db_path = \"/home/ws/er5241/Repos/measuring-repo/artifacts/debug.json\"\n",
    "\n",
    "# fls = os.listdir(fpath)\n",
    "# id = np.random.choice(fls)"
   ]
  },
  {
   "cell_type": "markdown",
   "id": "c359c262",
   "metadata": {},
   "source": [
    "### brain"
   ]
  },
  {
   "cell_type": "code",
   "execution_count": 6,
   "id": "90973dc0",
   "metadata": {},
   "outputs": [],
   "source": [
    "id = 'Medaka_1115_20-1'\n",
    "img_path = fpath + id + \"/scaled_0.5_8bit_cropped_slices.tif\"\n",
    "img = tifffile.imread(img_path)\n",
    "\n",
    "main_organ = 'brain'\n",
    "cfg_path = f\"/home/ws/er5241/Repos/measuring-repo/measurement_configs/measurement/{main_organ}.yaml\"\n",
    "msk_path = fpath + id + f\"/{main_organ}_scaled_0.5_8bit_cropped_slices.tif\"\n",
    "msk = tifffile.imread(msk_path)\n",
    "\n",
    "with open(cfg_path, \"r\") as stream:\n",
    "    configs = yaml.safe_load(stream)\n",
    "\n",
    "cleaning_config = configs['cleaning']\n",
    "measuring_config = configs['measures']\n",
    "centering_config = configs.get('centering', [])\n",
    "\n",
    "cleaner = DoubleStepCleaner(**cleaning_config)\n",
    "msk_clean, roi = cleaner(msk)\n",
    "img_clean = img[roi]"
   ]
  },
  {
   "cell_type": "code",
   "execution_count": 7,
   "id": "aafd2981",
   "metadata": {},
   "outputs": [],
   "source": [
    "centers = {}\n",
    "for centering in centering_config:\n",
    "    centers[centering['name']] = Separator((msk_clean == centering['label_id']), centering['function'], centering['count'])"
   ]
  },
  {
   "cell_type": "code",
   "execution_count": null,
   "id": "4a2045eb",
   "metadata": {},
   "outputs": [],
   "source": [
    "for lbl in measuring_config:\n",
    "  lbl_mask = (msk_clean == lbl['id'])\n",
    "  print(lbl['id'], lbl['name'])\n",
    "  for measure in lbl['measures']:\n",
    "    if 'eccentricity' not in measure['function']:  # takes too long\n",
    "      mf = getattr(measures, measure['function'])\n",
    "      cc = centers[lbl['center']] if ('center' in lbl.keys()) else None\n",
    "      measurement = mf(lbl_mask, img_clean, cc)\n",
    "      print(measure['function'],measurement)"
   ]
  },
  {
   "cell_type": "markdown",
   "id": "0fb345b5",
   "metadata": {},
   "source": [
    "### heartkidney"
   ]
  },
  {
   "cell_type": "code",
   "execution_count": 9,
   "id": "7131012c",
   "metadata": {},
   "outputs": [],
   "source": [
    "id = 'Medaka_1129_25-1'\n",
    "img_path = fpath + id + \"/scaled_0.5_8bit_cropped_slices.tif\"\n",
    "img = tifffile.imread(img_path)\n",
    "\n",
    "main_organ = 'heartkidney'\n",
    "cfg_path = f\"/home/ws/er5241/Repos/measuring-repo/measurement_configs/measurement/{main_organ}.yaml\"\n",
    "\n",
    "with open(cfg_path, \"r\") as stream:\n",
    "    configs = yaml.safe_load(stream)\n",
    "\n",
    "cleaning_config = configs['cleaning']\n",
    "measuring_config = configs['measures']\n",
    "centering_config = configs.get('centering', [])\n",
    "\n",
    "msk_path = fpath + id + f\"/{main_organ}_scaled_0.5_8bit_cropped_slices.tif\"\n",
    "msk = tifffile.imread(msk_path)\n",
    "cleaner = DoubleStepCleaner(**cleaning_config)\n",
    "\n",
    "msk_clean, roi = cleaner(msk)\n",
    "img_clean = img[roi]"
   ]
  },
  {
   "cell_type": "code",
   "execution_count": 10,
   "id": "35f430e8",
   "metadata": {},
   "outputs": [],
   "source": [
    "centers = {}\n",
    "for centering in centering_config:\n",
    "    centers[centering['name']] = Separator((msk_clean == centering['label_id']), centering['function'], centering['count'])"
   ]
  },
  {
   "cell_type": "code",
   "execution_count": null,
   "id": "66541118",
   "metadata": {},
   "outputs": [
    {
     "name": "stdout",
     "output_type": "stream",
     "text": [
      "2 atrium\n",
      "volume [312297]\n",
      "surface_area [113895]\n",
      "color_mean [117.87404938247886]\n",
      "color_mean_dilated [86.76456396245538]\n",
      "color_mean_eroded [130.27783755583815]\n",
      "color_median [120.0]\n",
      "color_median_dilated [79.0]\n",
      "color_median_eroded [133.0]\n",
      "color_std [24.1461341750545]\n",
      "color_std_dilated [32.53474937276524]\n",
      "color_std_eroded [20.863448809822167]\n",
      "color_perc_1 [50.0]\n",
      "color_perc_1_dilated [37.0]\n",
      "color_perc_1_eroded [55.0]\n",
      "color_perc_99 [162.0]\n",
      "color_perc_99_dilated [160.0]\n",
      "color_perc_99_eroded [167.0]\n",
      "convex_volume [593790.3333333333]\n",
      "radius_minimal_sphere [81.1001415284453]\n",
      "4 left_kidney\n",
      "volume [724539]\n",
      "surface_area [115294]\n",
      "color_mean [119.95255879945731]\n",
      "color_mean_dilated [75.15645320749333]\n",
      "color_mean_eroded [118.79294249168808]\n",
      "color_median [120.0]\n",
      "color_median_dilated [67.0]\n",
      "color_median_eroded [118.0]\n",
      "color_std [21.833129345456133]\n",
      "color_std_dilated [32.51693567817804]\n",
      "color_std_eroded [19.50704670465549]\n",
      "color_perc_1 [65.0]\n",
      "color_perc_1_dilated [24.0]\n",
      "color_perc_1_eroded [72.0]\n",
      "color_perc_99 [173.0]\n",
      "color_perc_99_dilated [177.0]\n",
      "color_perc_99_eroded [165.0]\n",
      "convex_volume [1632001.0]\n",
      "radius_minimal_sphere [170.1785592614734]\n",
      "5 ventricle\n",
      "volume [418691]\n",
      "surface_area [92022]\n",
      "color_mean [125.19619480714894]\n",
      "color_mean_dilated [87.97452612024772]\n",
      "color_mean_eroded [128.87743261211168]\n",
      "color_median [122.0]\n",
      "color_median_dilated [79.0]\n",
      "color_median_eroded [126.0]\n",
      "color_std [23.599898453349972]\n"
     ]
    }
   ],
   "source": [
    "for lbl in measuring_config:\n",
    "  lbl_mask = (msk_clean == lbl['id'])\n",
    "  print(lbl['id'], lbl['name'])\n",
    "  for measure in lbl['measures']:\n",
    "    if 'eccentricity' not in measure['function']:  # takes too long\n",
    "      mf = getattr(measures, measure['function'])\n",
    "      cc = centers[lbl['center']] if ('center' in lbl.keys()) else None\n",
    "      measurement = mf(lbl_mask, img_clean, cc)\n",
    "      print(measure['function'],measurement)"
   ]
  },
  {
   "cell_type": "markdown",
   "id": "c0f33ece",
   "metadata": {},
   "source": [
    "### liver"
   ]
  },
  {
   "cell_type": "code",
   "execution_count": 20,
   "id": "b1731d0e",
   "metadata": {},
   "outputs": [],
   "source": [
    "id = 'Medaka_1115_20-1'\n",
    "img_path = fpath + id + \"/scaled_0.5_8bit_cropped_slices.tif\"\n",
    "img = tifffile.imread(img_path)\n",
    "\n",
    "main_organ = 'liver'\n",
    "cfg_path = f\"/home/ws/er5241/Repos/measuring-repo/measurement_configs/measurement/{main_organ}.yaml\"\n",
    "\n",
    "with open(cfg_path, \"r\") as stream:\n",
    "    configs = yaml.safe_load(stream)\n",
    "\n",
    "cleaning_config = configs['cleaning']\n",
    "measuring_config = configs['measures']\n",
    "centering_config = configs.get('centering', [])\n",
    "\n",
    "msk_path = fpath + id + f\"/{main_organ}_scaled_0.5_8bit_cropped_slices.tif\"\n",
    "msk = tifffile.imread(msk_path)\n",
    "cleaner = DoubleStepCleaner(**cleaning_config)\n",
    "\n",
    "msk_clean, roi = cleaner(msk)\n",
    "img_clean = img[roi]"
   ]
  },
  {
   "cell_type": "code",
   "execution_count": 21,
   "id": "aadaf841",
   "metadata": {},
   "outputs": [],
   "source": [
    "centers = {}\n",
    "for centering in centering_config:\n",
    "    centers[centering['name']] = Separator((msk_clean == centering['label_id']), centering['function'], centering['count'])"
   ]
  },
  {
   "cell_type": "code",
   "execution_count": 6,
   "id": "e089e97d",
   "metadata": {},
   "outputs": [
    {
     "name": "stdout",
     "output_type": "stream",
     "text": [
      "1 liver\n",
      "volume [957354]\n",
      "surface_area [255486]\n",
      "color_mean [134.92143658458627]\n",
      "color_mean_dilated [106.40123660512828]\n",
      "color_mean_eroded [131.5065935521058]\n",
      "color_median [134.0]\n",
      "color_median_dilated [110.0]\n",
      "color_median_eroded [131.0]\n",
      "color_std [18.96998865566971]\n",
      "color_std_dilated [36.39823159943829]\n",
      "color_std_eroded [15.039514243706465]\n",
      "color_perc_1 [93.0]\n",
      "color_perc_1_dilated [46.0]\n",
      "color_perc_1_eroded [97.0]\n",
      "color_perc_99 [190.0]\n",
      "color_perc_99_dilated [181.0]\n",
      "color_perc_99_eroded [177.0]\n",
      "convex_volume [1533284.5]\n",
      "radius_minimal_sphere [100.39669406502752]\n",
      "eccentricity_meridional [0.2430539537752909]\n",
      "eccentricity_equatorial [0.08963000738917838]\n"
     ]
    }
   ],
   "source": [
    "for lbl in measuring_config:\n",
    "  lbl_mask = (msk_clean == lbl['id'])\n",
    "  print(lbl['id'], lbl['name'])\n",
    "  for measure in lbl['measures']:\n",
    "    mf = getattr(measures, measure['function'])\n",
    "    cc = centers[lbl['center']] if ('center' in lbl.keys()) else None\n",
    "    measurement = mf(lbl_mask, img_clean, cc)\n",
    "    print(measure['function'],measurement)"
   ]
  },
  {
   "cell_type": "markdown",
   "id": "697e65b1",
   "metadata": {},
   "source": [
    "### eyes"
   ]
  },
  {
   "cell_type": "code",
   "execution_count": 20,
   "id": "4eacae25",
   "metadata": {},
   "outputs": [],
   "source": [
    "id = 'Medaka_1115_20-1'\n",
    "img_path = fpath + id + \"/scaled_0.5_8bit_cropped_slices.tif\"\n",
    "img = tifffile.imread(img_path)\n",
    "\n",
    "main_organ = 'eyes'\n",
    "cfg_path = f\"/home/ws/er5241/Repos/measuring-repo/measurement_configs/measurement/eye.yaml\"\n",
    "\n",
    "with open(cfg_path, \"r\") as stream:\n",
    "    configs = yaml.safe_load(stream)\n",
    "\n",
    "cleaning_config = configs['cleaning']\n",
    "measuring_config = configs['measures']\n",
    "centering_config = configs.get('centering', [])\n",
    "\n",
    "msk_path = fpath + id + f\"/{main_organ}_scaled_0.5_8bit_cropped_slices.tif\"\n",
    "msk = tifffile.imread(msk_path)\n",
    "cleaner = DoubleStepCleaner(**cleaning_config)\n",
    "\n",
    "msk_clean, roi = cleaner(msk)\n",
    "img_clean = img[roi]"
   ]
  },
  {
   "cell_type": "code",
   "execution_count": 21,
   "id": "cb015e07",
   "metadata": {},
   "outputs": [],
   "source": [
    "centers = {}\n",
    "for centering in centering_config:\n",
    "    centers[centering['name']] = Separator((msk_clean == centering['label_id']), centering['function'], centering['count'])"
   ]
  },
  {
   "cell_type": "code",
   "execution_count": null,
   "id": "05247ce0",
   "metadata": {},
   "outputs": [],
   "source": [
    "for lbl in measuring_config:\n",
    "  lbl_mask = (msk_clean == lbl['id'])\n",
    "  print(lbl['id'], lbl['name'])\n",
    "  for measure in lbl['measures']:\n",
    "    mf = getattr(measures, measure['function'])\n",
    "    cc = centers[lbl['center']] if ('center' in lbl.keys()) else None\n",
    "    measurement = mf(lbl_mask, img_clean, cc)\n",
    "    print(measure['function'],measurement)"
   ]
  }
 ],
 "metadata": {
  "kernelspec": {
   "display_name": "Python 3 (ipykernel)",
   "language": "python",
   "name": "python3"
  },
  "language_info": {
   "codemirror_mode": {
    "name": "ipython",
    "version": 3
   },
   "file_extension": ".py",
   "mimetype": "text/x-python",
   "name": "python",
   "nbconvert_exporter": "python",
   "pygments_lexer": "ipython3",
   "version": "3.8.5"
  }
 },
 "nbformat": 4,
 "nbformat_minor": 5
}
